{
 "cells": [
  {
   "cell_type": "markdown",
   "metadata": {},
   "source": [
    "# Deep Structured Semantic Models (DSSM)\n",
    "\n",
    "## Introduction\n",
    "\n",
    "Deep Structured Semantic Models (DSSM) represent a class of neural network models designed for learning semantic representations of text data. These models have found applications in various natural language processing (NLP) tasks, with one notable application being web search using clickthrough data. The DSSM architecture aims to capture the semantic relationships between queries and documents, improving the relevance and accuracy of search results.\n",
    "\n",
    "## Key Components\n",
    "\n",
    "The DSSM architecture typically consists of the following key components:\n",
    "\n",
    "1. **User Tower Module:**\n",
    "   - Responsible for training user features.\n",
    "   - Learns embeddings representing user behavior or preferences, often derived from clickthrough data.\n",
    "\n",
    "2. **Item Tower Module:**\n",
    "   - Responsible for training item features.\n",
    "   - Learns embeddings representing document or item content.\n",
    "\n",
    "3. **Temperature Factor:**\n",
    "   - A hyperparameter influencing the similarity score between user and item embeddings.\n",
    "   - Can be adjusted to control the smoothness of the similarity function.\n",
    "\n",
    "4. **User and Item Parameters:**\n",
    "   - Configurable parameters for the respective tower modules.\n",
    "   - Include dimensions, activation functions, dropout rates, and options for output layers.\n",
    "\n",
    "## Model Architecture\n",
    "\n",
    "The DSSM model architecture is designed to capture the semantic meaning of text data through neural network layers. The architecture often includes the following stages:\n",
    "\n",
    "1. **Embedding Layer:**\n",
    "   - Converts input text data into dense vector representations.\n",
    "   - Incorporates features from both user and item perspectives.\n",
    "\n",
    "2. **User Tower:**\n",
    "   - Processes user-specific features through a multilayer perceptron (MLP).\n",
    "   - Normalizes the resulting embeddings to capture semantic information.\n",
    "\n",
    "3. **Item Tower:**\n",
    "   - Processes item-specific features through a separate MLP.\n",
    "   - Normalizes the item embeddings for semantic understanding.\n",
    "\n",
    "4. **Similarity Calculation:**\n",
    "   - Computes the similarity score between the user and item embeddings.\n",
    "   - The temperature factor influences the smoothness of the similarity function.\n",
    "\n",
    "5. **Sigmoid Activation:**\n",
    "   - Applies a sigmoid activation function to generate a probability-like output.\n",
    "   - The final output represents the likelihood of a user-item pair being relevant.\n"
   ]
  },
  {
   "cell_type": "code",
   "execution_count": 29,
   "metadata": {},
   "outputs": [],
   "source": [
    "import pandas as pd\n",
    "import numpy as np"
   ]
  },
  {
   "cell_type": "code",
   "execution_count": 30,
   "metadata": {},
   "outputs": [],
   "source": [
    "movies = pd.read_csv('datasets/ml-1m/movies.dat', sep='::', header=None, names=['movie_id','title', 'genres'], engine='python', encoding='latin-1')\n",
    "ratings = pd.read_csv('datasets/ml-1m/ratings.dat', sep='::', header=None, names=['user_id', 'movie_id', 'rating', 'timestamp'], engine='python', encoding='latin-1')\n",
    "users = pd.read_csv('datasets/ml-1m/users.dat', sep='::', header=None, names=['user_id', 'gender', 'age', 'occupation', 'zip'], engine='python', encoding='latin-1')"
   ]
  },
  {
   "cell_type": "code",
   "execution_count": 31,
   "metadata": {},
   "outputs": [
    {
     "name": "stdout",
     "output_type": "stream",
     "text": [
      "   user_id  movie_id  rating  timestamp\n",
      "0        1      1193       5  978300760\n",
      "1        1       661       3  978302109\n",
      "2        1       914       3  978301968\n",
      "3        1      3408       4  978300275\n",
      "4        1      2355       5  978824291\n",
      "(1000209, 4)\n",
      "   user_id gender  age  occupation    zip\n",
      "0        1      F    1          10  48067\n",
      "1        2      M   56          16  70072\n",
      "2        3      M   25          15  55117\n",
      "3        4      M   45           7  02460\n",
      "4        5      M   25          20  55455\n",
      "   movie_id                               title                        genres\n",
      "0         1                    Toy Story (1995)   Animation|Children's|Comedy\n",
      "1         2                      Jumanji (1995)  Adventure|Children's|Fantasy\n",
      "2         3             Grumpier Old Men (1995)                Comedy|Romance\n",
      "3         4            Waiting to Exhale (1995)                  Comedy|Drama\n",
      "4         5  Father of the Bride Part II (1995)                        Comedy\n"
     ]
    }
   ],
   "source": [
    "print(ratings.head())\n",
    "print(ratings.shape)\n",
    "print(users.head())\n",
    "print(movies.head())"
   ]
  },
  {
   "cell_type": "code",
   "execution_count": 32,
   "metadata": {},
   "outputs": [
    {
     "name": "stdout",
     "output_type": "stream",
     "text": [
      "   user_id  movie_id  rating  timestamp gender  age  occupation    zip  \\\n",
      "0        1      1193       5  978300760      F    1          10  48067   \n",
      "1        2      1193       5  978298413      M   56          16  70072   \n",
      "2       12      1193       4  978220179      M   25          12  32793   \n",
      "3       15      1193       4  978199279      M   25           7  22903   \n",
      "4       17      1193       5  978158471      M   50           1  95350   \n",
      "\n",
      "                                    title genres  \n",
      "0  One Flew Over the Cuckoo's Nest (1975)  Drama  \n",
      "1  One Flew Over the Cuckoo's Nest (1975)  Drama  \n",
      "2  One Flew Over the Cuckoo's Nest (1975)  Drama  \n",
      "3  One Flew Over the Cuckoo's Nest (1975)  Drama  \n",
      "4  One Flew Over the Cuckoo's Nest (1975)  Drama  \n",
      "(1000209, 10)\n"
     ]
    }
   ],
   "source": [
    "data = pd.merge(pd.merge(ratings, users, on='user_id'), movies, on='movie_id')\n",
    "\n",
    "# Display the result\n",
    "print(data.head())\n",
    "print(data.shape)"
   ]
  },
  {
   "cell_type": "code",
   "execution_count": 33,
   "metadata": {},
   "outputs": [],
   "source": [
    "data.to_csv('./saved/full_data.csv', index=False)"
   ]
  },
  {
   "cell_type": "code",
   "execution_count": 34,
   "metadata": {},
   "outputs": [],
   "source": [
    "# Use join to merge the DataFrames\n",
    "data = ratings.join(users.set_index('user_id'), on='user_id').join(movies.set_index('movie_id'), on='movie_id')"
   ]
  },
  {
   "cell_type": "code",
   "execution_count": 35,
   "metadata": {},
   "outputs": [],
   "source": [
    "data[\"cat_id\"] = data[\"genres\"].apply(lambda x: x.split(\"|\")[0])\n",
    "user_col, item_col = \"user_id\", \"movie_id\"\n",
    "sparse_features = ['user_id', 'movie_id', 'gender', 'age', 'occupation', 'zip', \"cat_id\"]"
   ]
  },
  {
   "cell_type": "code",
   "execution_count": 36,
   "metadata": {},
   "outputs": [
    {
     "name": "stdout",
     "output_type": "stream",
     "text": [
      "Before encoding: \n",
      "          user_id  movie_id gender  age  occupation    zip      cat_id\n",
      "1000204     6040      1091      M   25           6  11106      Comedy\n",
      "1000205     6040      1094      M   25           6  11106       Drama\n",
      "1000206     6040       562      M   25           6  11106      Comedy\n",
      "1000207     6040      1096      M   25           6  11106       Drama\n",
      "1000208     6040      1097      M   25           6  11106  Children's\n",
      "\n",
      "After encoding: \n",
      "          user_id  movie_id  gender  age  occupation  zip  cat_id\n",
      "1000204     6040      1020       2    3           7  467       5\n",
      "1000205     6040      1023       2    3           7  467       8\n",
      "1000206     6040       549       2    3           7  467       5\n",
      "1000207     6040      1025       2    3           7  467       8\n",
      "1000208     6040      1026       2    3           7  467       4\n"
     ]
    }
   ],
   "source": [
    "from sklearn.preprocessing import LabelEncoder\n",
    "import os\n",
    "\n",
    "save_dir = './saved/'\n",
    "if not os.path.exists(save_dir):\n",
    "    os.makedirs(save_dir)\n",
    "    \n",
    "print(f'Before encoding: \\n {data[sparse_features].tail()}')\n",
    "\n",
    "feature_max_idx = {}\n",
    "for feature in sparse_features:\n",
    "    encoder = LabelEncoder()\n",
    "    data[feature] = encoder.fit_transform(data[feature]) + 1 # лучше энкодить не с 0, особенно в sequential NN\n",
    "    feature_max_idx[feature] = data[feature].max() + 1\n",
    "    if feature == user_col:\n",
    "        user_map = {encode_id + 1: raw_id for encode_id, raw_id in enumerate(encoder.classes_)}\n",
    "    if feature == item_col:\n",
    "        item_map = {encode_id + 1: raw_id for encode_id, raw_id in enumerate(encoder.classes_)}\n",
    "np.save(save_dir + \"raw_id_maps.npy\", (user_map, item_map))\n",
    "np.save(save_dir + \"feature_max_idx.npy\", feature_max_idx)\n",
    "\n",
    "print(f'\\nAfter encoding: \\n {data[sparse_features].tail()}')"
   ]
  },
  {
   "cell_type": "code",
   "execution_count": 37,
   "metadata": {},
   "outputs": [],
   "source": [
    "data.to_csv('./saved/data.csv', index=False)"
   ]
  },
  {
   "cell_type": "code",
   "execution_count": null,
   "metadata": {},
   "outputs": [],
   "source": []
  },
  {
   "cell_type": "code",
   "execution_count": 38,
   "metadata": {},
   "outputs": [],
   "source": [
    "import pandas as pd\n",
    "import numpy as np\n",
    "\n",
    "user_col, item_col = \"user_id\", \"movie_id\"\n",
    "sparse_features = ['user_id', 'movie_id', 'gender', 'age', 'occupation', 'zip', \"cat_id\"]\n",
    "data = pd.read_csv('./saved/data.csv', nrows=10000)\n",
    "feature_max_idx = np.load('./saved/feature_max_idx.npy', allow_pickle=True).item()"
   ]
  },
  {
   "cell_type": "code",
   "execution_count": 39,
   "metadata": {},
   "outputs": [
    {
     "name": "stderr",
     "output_type": "stream",
     "text": [
      "generate sequence features: 100%|██████████| 70/70 [00:00<00:00, 559.21it/s]\n"
     ]
    },
    {
     "name": "stdout",
     "output_type": "stream",
     "text": [
      "n_train: 59088, n_test: 69\n",
      "1 cold start users droped \n"
     ]
    }
   ],
   "source": [
    "from src.dssm.match import generate_seq_feature_match\n",
    "\n",
    "\n",
    "df_train, df_test = generate_seq_feature_match(data,\n",
    "                                               user_col,\n",
    "                                               item_col,\n",
    "                                               time_col=\"timestamp\",\n",
    "                                               item_attribute_cols=[],\n",
    "                                               sample_method=2,\n",
    "                                               mode=0,\n",
    "                                               neg_ratio=5,\n",
    "                                               min_item=15)"
   ]
  },
  {
   "cell_type": "code",
   "execution_count": 40,
   "metadata": {},
   "outputs": [
    {
     "name": "stdout",
     "output_type": "stream",
     "text": [
      "All items from train_set are in gt_set: True\n"
     ]
    }
   ],
   "source": [
    "train_set = set(df_train[(df_train['user_id'] == 1) & (df_train['label'] == 1)]['movie_id'].unique())\n",
    "gt_set = set(data[data['user_id'] == 1]['movie_id'].unique())\n",
    "# Check if all items from train_set are in gt_set\n",
    "all_items_in_gt_set = train_set.issubset(gt_set)\n",
    "\n",
    "print(f\"All items from train_set are in gt_set: {all_items_in_gt_set}\")"
   ]
  },
  {
   "cell_type": "code",
   "execution_count": 41,
   "metadata": {},
   "outputs": [],
   "source": [
    "user_cols = [\"user_id\", \"gender\", \"age\", \"occupation\", \"zip\"]\n",
    "item_cols = ['movie_id', \"cat_id\"]\n",
    "user_profile = data[user_cols].drop_duplicates('user_id')\n",
    "item_profile = data[item_cols].drop_duplicates('movie_id')"
   ]
  },
  {
   "cell_type": "code",
   "execution_count": 42,
   "metadata": {},
   "outputs": [],
   "source": [
    "from src.dssm.match import gen_model_input\n",
    "\n",
    "x_train = gen_model_input(df_train, user_profile, user_col, item_profile, item_col, seq_max_len=50)\n",
    "x_test = gen_model_input(df_test, user_profile, user_col, item_profile, item_col, seq_max_len=50)\n",
    "y_train = x_train[\"label\"]\n",
    "y_test = x_test[\"label\"]"
   ]
  },
  {
   "cell_type": "code",
   "execution_count": 43,
   "metadata": {},
   "outputs": [
    {
     "data": {
      "text/plain": [
       "{'user_id': array([10, 62, 29, 48]),\n",
       " 'movie_id': array([1105, 2241,  977, 2137]),\n",
       " 'hist_movie_id': array([[ 107, 1112,  575,  217,  853,  894, 1187, 2711, 2512, 1203, 1289,\n",
       "         3623, 2822, 2786,  964, 3071, 3461,  576,  271, 2144, 2749, 2666,\n",
       "          866, 2979, 2880, 3239, 1163, 2132, 3430, 1310, 1821,  145, 1546,\n",
       "         1180, 2976, 3130, 1450, 2308,  757, 2657,  893,    1, 1178, 2872,\n",
       "         3293, 2163, 1216, 1159,  355, 1013],\n",
       "        [1208, 1202, 1133, 1168, 2014, 1789, 1019, 3193, 1211, 1086, 3310,\n",
       "         1782, 2807, 1538, 1026, 1138, 1890, 3444, 2553, 1885, 1821, 1195,\n",
       "         2056, 1779, 1297, 3028, 1889,  579, 2282, 3217, 1965, 2534, 3246,\n",
       "         2894, 3600, 1966, 2099, 1967, 2551, 1752, 3082,  845,  860, 1755,\n",
       "         2174,  581,  905, 2447,  894,  895],\n",
       "        [1125, 2335, 1213, 1200, 1149, 1289, 2737, 1196,  576, 1133, 1107,\n",
       "          444, 1774, 2666, 1131,  107, 3175, 1151, 2171, 3413, 1276, 1479,\n",
       "         2741, 1775, 2709, 2848, 1121, 2742, 2744, 2889, 1126,  461, 3551,\n",
       "         2461,   21, 3461, 1450, 1821, 3511, 3295, 1051, 2297,  368, 3527,\n",
       "         2340,  467, 1272,  280, 1407, 3187],\n",
       "        [2441, 2258, 2442,  308, 1697, 2427,  746,   24, 1293, 1914, 2201,\n",
       "          429, 1540,  650,  852, 1115, 1171,  860, 1159, 2737,  909, 2848,\n",
       "         1133, 1019, 1203, 1887, 1119, 3413, 3511, 1748, 3217,  929, 1375,\n",
       "         1485, 2611, 1487,  453, 1741, 2612, 1907,  581, 1183, 2651, 2776,\n",
       "         1191, 1916,  958,  583, 1898, 3251]]),\n",
       " 'histlen_movie_id': array([ 95, 260,  76, 247]),\n",
       " 'label': array([0, 0, 0, 0]),\n",
       " 'gender': array([1, 1, 2, 2]),\n",
       " 'age': array([4, 4, 4, 3]),\n",
       " 'occupation': array([2, 4, 8, 5]),\n",
       " 'zip': array([3189, 3354, 1214, 2917]),\n",
       " 'cat_id': array([8, 8, 8, 8])}"
      ]
     },
     "execution_count": 43,
     "metadata": {},
     "output_type": "execute_result"
    }
   ],
   "source": [
    "{k: v[:4] for k, v in x_train.items()}"
   ]
  },
  {
   "cell_type": "code",
   "execution_count": 44,
   "metadata": {},
   "outputs": [
    {
     "data": {
      "text/plain": [
       "True"
      ]
     },
     "execution_count": 44,
     "metadata": {},
     "output_type": "execute_result"
    }
   ],
   "source": [
    "uid_35 = [2006, 1161,  844,  905,  594, 1173, 1178, 2558, 1261, 2375, 2960,\n",
    "         1585, 1272, 2379,  852,  119,  310, 2937,  288, 2756, 1185, 1107,\n",
    "         1141, 3131,   36, 2098, 1023,  755,   17, 1785, 1181, 1032, 3121,\n",
    "         1564, 1317, 1776, 1778,  893, 3178, 2725, 2144, 2410, 2846, 1295,\n",
    "         3509, 3095, 3331, 2973, 3587, 3330]\n",
    "uid_35_gt = df_train[(df_train['user_id'] == 35) & (df_train['label'] == 1)]['movie_id'].unique()\n",
    "\n",
    "np.isin(uid_35, uid_35_gt).all()"
   ]
  },
  {
   "cell_type": "code",
   "execution_count": 45,
   "metadata": {},
   "outputs": [],
   "source": [
    "from src.dssm.layers import Feature\n",
    "from src.dssm.model import DSSMModel\n",
    "\n",
    "user_cols = [\"user_id\", \"gender\", \"age\"]\n",
    "item_cols = ['movie_id', \"cat_id\"]\n",
    "\n",
    "# Define Feature objects\n",
    "user_features = [Feature(name=feature_name, vocab_dim=feature_max_idx[feature_name], embedding_dim=128, sequential=False, padding=None) for feature_name in user_cols]\n",
    "item_features = [Feature(name=feature_name, vocab_dim=feature_max_idx[feature_name], embedding_dim=128, sequential=False, padding=None) for feature_name in item_cols]\n",
    "\n",
    "hist_movie_id_feature = Feature(name='hist_movie_id', vocab_dim=feature_max_idx['movie_id'], embedding_dim=8, sequential=True, padding=0, shared_embedding='movie_id')\n",
    "#user_features += [hist_movie_id_feature]\n",
    "# Define MLP dimensions\n",
    "mlp_dims = [16, 8, 4]\n",
    "\n",
    "temperature = 0.5\n",
    "\n",
    "# Create DSSMModel instance\n",
    "model = DSSMModel(\n",
    "    user_features=user_features,\n",
    "    item_features=item_features,\n",
    "    mlp_user_params={'dims': mlp_dims},\n",
    "    mlp_item_params={'dims': mlp_dims},\n",
    "    temperature=temperature\n",
    "    )"
   ]
  },
  {
   "cell_type": "code",
   "execution_count": 46,
   "metadata": {},
   "outputs": [
    {
     "data": {
      "text/plain": [
       "DSSMModel(\n",
       "  (feature_embeddings): FeatureEmbeddings(\n",
       "    (embedding_layers): ModuleDict(\n",
       "      (user_id): Embedding(6041, 128)\n",
       "      (gender): Embedding(3, 128)\n",
       "      (age): Embedding(8, 128)\n",
       "      (movie_id): Embedding(3707, 128)\n",
       "      (cat_id): Embedding(19, 128)\n",
       "    )\n",
       "  )\n",
       "  (user_tower): MLP(\n",
       "    (mlp): Sequential(\n",
       "      (0): Linear(in_features=384, out_features=16, bias=True)\n",
       "      (1): BatchNorm1d(16, eps=1e-05, momentum=0.1, affine=True, track_running_stats=True)\n",
       "      (2): ReLU()\n",
       "      (3): Dropout(p=0, inplace=False)\n",
       "      (4): Linear(in_features=16, out_features=8, bias=True)\n",
       "      (5): BatchNorm1d(8, eps=1e-05, momentum=0.1, affine=True, track_running_stats=True)\n",
       "      (6): ReLU()\n",
       "      (7): Dropout(p=0, inplace=False)\n",
       "      (8): Linear(in_features=8, out_features=4, bias=True)\n",
       "      (9): BatchNorm1d(4, eps=1e-05, momentum=0.1, affine=True, track_running_stats=True)\n",
       "      (10): ReLU()\n",
       "      (11): Dropout(p=0, inplace=False)\n",
       "    )\n",
       "  )\n",
       "  (item_tower): MLP(\n",
       "    (mlp): Sequential(\n",
       "      (0): Linear(in_features=256, out_features=16, bias=True)\n",
       "      (1): BatchNorm1d(16, eps=1e-05, momentum=0.1, affine=True, track_running_stats=True)\n",
       "      (2): ReLU()\n",
       "      (3): Dropout(p=0, inplace=False)\n",
       "      (4): Linear(in_features=16, out_features=8, bias=True)\n",
       "      (5): BatchNorm1d(8, eps=1e-05, momentum=0.1, affine=True, track_running_stats=True)\n",
       "      (6): ReLU()\n",
       "      (7): Dropout(p=0, inplace=False)\n",
       "      (8): Linear(in_features=8, out_features=4, bias=True)\n",
       "      (9): BatchNorm1d(4, eps=1e-05, momentum=0.1, affine=True, track_running_stats=True)\n",
       "      (10): ReLU()\n",
       "      (11): Dropout(p=0, inplace=False)\n",
       "    )\n",
       "  )\n",
       ")"
      ]
     },
     "execution_count": 46,
     "metadata": {},
     "output_type": "execute_result"
    }
   ],
   "source": [
    "model"
   ]
  },
  {
   "cell_type": "code",
   "execution_count": 47,
   "metadata": {},
   "outputs": [
    {
     "data": {
      "text/plain": [
       "384"
      ]
     },
     "execution_count": 47,
     "metadata": {},
     "output_type": "execute_result"
    }
   ],
   "source": [
    "model._calculate_input_dims(model.user_features)"
   ]
  },
  {
   "cell_type": "code",
   "execution_count": 48,
   "metadata": {},
   "outputs": [
    {
     "data": {
      "text/plain": [
       "256"
      ]
     },
     "execution_count": 48,
     "metadata": {},
     "output_type": "execute_result"
    }
   ],
   "source": [
    "model._calculate_input_dims(model.item_features)"
   ]
  },
  {
   "cell_type": "code",
   "execution_count": 49,
   "metadata": {},
   "outputs": [
    {
     "name": "stdout",
     "output_type": "stream",
     "text": [
      "tensor([0.5000, 0.6355, 0.6623], grad_fn=<SigmoidBackward0>)\n"
     ]
    }
   ],
   "source": [
    "# Example input data\n",
    "import torch\n",
    "\n",
    "data = {'user_id': torch.tensor([34, 17, 44]),\n",
    "        'movie_id': torch.tensor([516, 409, 2027]),\n",
    "        'hist_movie_id': torch.tensor([[653, 38, 2038, 1060, 670, 690, 644, 674, 481, 1121, 1726,\n",
    "                                        647, 152, 700, 748, 720, 609, 668, 2065, 365, 897, 1570,\n",
    "                                        693, 485, 1739, 472, 774, 477, 793, 799, 663, 276, 1076,\n",
    "                                        649, 686, 63, 1065, 6, 729, 1618, 515, 1077, 688, 474,\n",
    "                                        656, 437, 708, 355, 0, 0],\n",
    "                                        [358, 1150, 220, 726, 119, 483, 359, 1155, 1162, 553, 558,\n",
    "                                        564, 336, 1151, 562, 385, 353, 1148, 559, 867, 561, 577,\n",
    "                                        141, 1536, 522, 935, 790, 595, 426, 470, 839, 560, 1111,\n",
    "                                        442, 1156, 1994, 970, 37, 974, 1997, 703, 793, 1315, 2033,\n",
    "                                        722, 1095, 757, 1936, 433, 0],\n",
    "                                        [1894, 557, 945, 1802, 1372, 600, 1362, 146, 1257, 734, 1446,\n",
    "                                        1203, 1136, 33, 2056, 1746, 1752, 570, 1285, 682, 678, 1,\n",
    "                                        1671, 1742, 799, 722, 1309, 1342, 1873, 484, 1306, 1999, 729,\n",
    "                                        1150, 1138, 587, 1619, 558, 823, 751, 1516, 584, 1015, 843,\n",
    "                                        1341, 1616, 848, 1096, 1171, 909]]),\n",
    "        'histlen_movie_id': torch.tensor([109, 396, 176]),\n",
    "        'label': torch.tensor([0, 1, 0]),\n",
    "        'gender': torch.tensor([2, 2, 1]),\n",
    "        'age': torch.tensor([4, 3, 3]),\n",
    "        'occupation': torch.tensor([8, 1, 3]),\n",
    "        'zip': torch.tensor([29, 42, 39]),\n",
    "        'cat_id': torch.tensor([8, 5, 8])}\n",
    "\n",
    "pred = model(data)\n",
    "print(pred)"
   ]
  },
  {
   "cell_type": "code",
   "execution_count": 50,
   "metadata": {},
   "outputs": [],
   "source": [
    "from src.dssm.utils import df_to_dict\n",
    "from src.dssm.utils import MatchDataGenerator\n",
    "\n",
    "all_item = df_to_dict(item_profile)\n",
    "test_user = x_test\n",
    "data_generator = MatchDataGenerator(x=x_train, y=y_train)\n",
    "train_dl, test_dl, item_dl = data_generator.generate_dataloader(test_user, all_item, batch_size=128)"
   ]
  },
  {
   "cell_type": "code",
   "execution_count": 51,
   "metadata": {},
   "outputs": [
    {
     "name": "stdout",
     "output_type": "stream",
     "text": [
      "epoch: 0\n"
     ]
    },
    {
     "name": "stderr",
     "output_type": "stream",
     "text": [
      "train:   0%|          | 0/462 [00:00<?, ?it/s, loss=1.02]"
     ]
    },
    {
     "name": "stderr",
     "output_type": "stream",
     "text": [
      "train: 100%|██████████| 462/462 [00:06<00:00, 75.92it/s, loss=0.734]\n"
     ]
    },
    {
     "name": "stdout",
     "output_type": "stream",
     "text": [
      "epoch: 1\n"
     ]
    },
    {
     "name": "stderr",
     "output_type": "stream",
     "text": [
      "train: 100%|██████████| 462/462 [00:05<00:00, 77.34it/s, loss=0.703]\n"
     ]
    },
    {
     "name": "stdout",
     "output_type": "stream",
     "text": [
      "epoch: 2\n"
     ]
    },
    {
     "name": "stderr",
     "output_type": "stream",
     "text": [
      "train: 100%|██████████| 462/462 [00:06<00:00, 75.46it/s, loss=0.694]\n"
     ]
    },
    {
     "name": "stdout",
     "output_type": "stream",
     "text": [
      "epoch: 3\n"
     ]
    },
    {
     "name": "stderr",
     "output_type": "stream",
     "text": [
      "train: 100%|██████████| 462/462 [00:06<00:00, 73.23it/s, loss=0.693]\n"
     ]
    },
    {
     "name": "stdout",
     "output_type": "stream",
     "text": [
      "epoch: 4\n"
     ]
    },
    {
     "name": "stderr",
     "output_type": "stream",
     "text": [
      "train: 100%|██████████| 462/462 [00:06<00:00, 72.61it/s, loss=0.693]\n"
     ]
    }
   ],
   "source": [
    "from src.dssm.trainer import MatchTrainer\n",
    "\n",
    "save_dir = './saved/'\n",
    "\n",
    "trainer = MatchTrainer(model,\n",
    "                       mode=0,\n",
    "                       optimizer_params={\n",
    "                           \"lr\": 1e-3,\n",
    "                           \"weight_decay\": 1e-5\n",
    "                       },\n",
    "                       n_epoch=5,\n",
    "                       device='cpu',\n",
    "                       model_path=save_dir)\n",
    "\n",
    "\n",
    "trainer.fit(train_dl)"
   ]
  },
  {
   "cell_type": "markdown",
   "metadata": {},
   "source": [
    "### Cosine similarity with temperature."
   ]
  },
  {
   "cell_type": "code",
   "execution_count": 52,
   "metadata": {},
   "outputs": [
    {
     "data": {
      "image/png": "[encoded data removed]",
      "text/plain": [
       "<Figure size 1200x400 with 3 Axes>"
      ]
     },
     "metadata": {},
     "output_type": "display_data"
    }
   ],
   "source": [
    "import numpy as np\n",
    "import matplotlib.pyplot as plt\n",
    "\n",
    "def softmax(x, temperature=1.0):\n",
    "    e_x = np.exp(x / temperature)\n",
    "    return e_x / e_x.sum()\n",
    "\n",
    "# Example usage\n",
    "logits = np.array([2.0, 1.0, 0.1])\n",
    "\n",
    "# Vary the temperature parameter to observe its effect\n",
    "temperatures = [0.5, 1.0, 5.0]\n",
    "\n",
    "# Plotting\n",
    "plt.figure(figsize=(12, 4))\n",
    "\n",
    "for i, temp in enumerate(temperatures):\n",
    "    probabilities = softmax(logits, temperature=temp)\n",
    "    \n",
    "    plt.subplot(1, len(temperatures), i+1)\n",
    "    plt.bar(range(len(probabilities)), probabilities, tick_label=['Class 1', 'Class 2', 'Class 3'])\n",
    "    plt.title(f\"Temperature: {temp}\")\n",
    "    plt.ylim([0, 1])\n",
    "\n",
    "plt.suptitle('Softmax with Different Temperatures')\n",
    "plt.show()\n",
    "\n"
   ]
  },
  {
   "cell_type": "code",
   "execution_count": 53,
   "metadata": {},
   "outputs": [
    {
     "name": "stdout",
     "output_type": "stream",
     "text": [
      "[0.2879814  0.69632838 0.01569022]\n",
      "[0.36338114 0.4335631  0.20305575]\n",
      "[0.35671505 0.40128049 0.24200446]\n",
      "[0.33511184 0.33748725 0.32740091]\n"
     ]
    },
    {
     "data": {
      "image/png": "[encoded data removed]",
      "text/plain": [
       "<Figure size 1200x400 with 4 Axes>"
      ]
     },
     "metadata": {},
     "output_type": "display_data"
    }
   ],
   "source": [
    "import numpy as np\n",
    "import matplotlib.pyplot as plt\n",
    "\n",
    "def cosine_similarity(x, y, temperature=1.0):\n",
    "    dot_product = np.dot(x, y)\n",
    "    norm_x = np.linalg.norm(x)\n",
    "    norm_y = np.linalg.norm(y)\n",
    "    \n",
    "    similarity = dot_product / (norm_x * norm_y)\n",
    "    scaled_similarity = similarity / temperature\n",
    "    return scaled_similarity\n",
    "\n",
    "def softmax(x, temperature=1.0):\n",
    "    e_x = np.exp(x / temperature)\n",
    "    return e_x / e_x.sum()\n",
    "\n",
    "# Example usage\n",
    "vector1 = np.array([1.0, 2.0, 3.0])\n",
    "vector2 = np.array([3.0, 2.0, 1.0])\n",
    "vector3 = np.array([2.0, 1.0, 2.0])\n",
    "vector4 = np.array([50.0, -5.0, -5.0])\n",
    "\n",
    "# Vary the temperature parameter to observe its effect\n",
    "temperatures = np.array([0.2, 1.0, 1.5, 25])\n",
    "\n",
    "# Plotting\n",
    "plt.figure(figsize=(12, 4))\n",
    "\n",
    "for i, temp in enumerate(temperatures):\n",
    "    similarities1 = cosine_similarity(vector1, vector2, temperature=temp)\n",
    "    similarities2 = cosine_similarity(vector1, vector3, temperature=temp)\n",
    "    similarities3 = cosine_similarity(vector1, vector4, temperature=temp)\n",
    "    sim = np.array([similarities1, similarities2, similarities3])\n",
    "    softmax_probs = softmax(sim, temperature=1)\n",
    "    print(softmax_probs)\n",
    "\n",
    "    plt.subplot(1, len(temperatures), i+1)\n",
    "    plt.bar([0, 1, 2], [softmax_probs[0], softmax_probs[1], softmax_probs[2]], tick_label=['x1', 'x2', 'x3'])\n",
    "    plt.title(f\"Temperature: {temp}\")\n",
    "    plt.ylim([0, 1])\n",
    "\n",
    "plt.suptitle('Softmax of cosine similarities with Different Temperatures')\n",
    "plt.show()\n",
    "\n"
   ]
  }
 ],
 "metadata": {
  "kernelspec": {
   "display_name": "torch",
   "language": "python",
   "name": "python3"
  },
  "language_info": {
   "codemirror_mode": {
    "name": "ipython",
    "version": 3
   },
   "file_extension": ".py",
   "mimetype": "text/x-python",
   "name": "python",
   "nbconvert_exporter": "python",
   "pygments_lexer": "ipython3",
   "version": "3.11.6"
  }
 },
 "nbformat": 4,
 "nbformat_minor": 2
}
