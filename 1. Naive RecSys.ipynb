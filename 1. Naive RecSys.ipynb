{
 "cells": [
  {
   "cell_type": "code",
   "execution_count": 37,
   "metadata": {},
   "outputs": [],
   "source": [
    "import pandas as pd\n",
    "import numpy as np\n",
    "from sklearn.model_selection import train_test_split"
   ]
  },
  {
   "cell_type": "code",
   "execution_count": 38,
   "metadata": {},
   "outputs": [],
   "source": [
    "movies = pd.read_csv('datasets/ml-latest-small/movies.csv')\n",
    "ratings = pd.read_csv('datasets/ml-latest-small/ratings.csv')"
   ]
  },
  {
   "cell_type": "code",
   "execution_count": 52,
   "metadata": {},
   "outputs": [],
   "source": [
    "rating_train, ratings_test = train_test_split(ratings, test_size=0.2, random_state=42)"
   ]
  },
  {
   "cell_type": "code",
   "execution_count": 53,
   "metadata": {},
   "outputs": [
    {
     "data": {
      "text/html": [
       "<div>\n",
       "<style scoped>\n",
       "    .dataframe tbody tr th:only-of-type {\n",
       "        vertical-align: middle;\n",
       "    }\n",
       "\n",
       "    .dataframe tbody tr th {\n",
       "        vertical-align: top;\n",
       "    }\n",
       "\n",
       "    .dataframe thead th {\n",
       "        text-align: right;\n",
       "    }\n",
       "</style>\n",
       "<table border=\"1\" class=\"dataframe\">\n",
       "  <thead>\n",
       "    <tr style=\"text-align: right;\">\n",
       "      <th></th>\n",
       "      <th>userId</th>\n",
       "      <th>movieId</th>\n",
       "      <th>rating</th>\n",
       "      <th>timestamp</th>\n",
       "    </tr>\n",
       "  </thead>\n",
       "  <tbody>\n",
       "    <tr>\n",
       "      <th>80568</th>\n",
       "      <td>509</td>\n",
       "      <td>7347</td>\n",
       "      <td>3.0</td>\n",
       "      <td>1435994597</td>\n",
       "    </tr>\n",
       "    <tr>\n",
       "      <th>50582</th>\n",
       "      <td>326</td>\n",
       "      <td>71462</td>\n",
       "      <td>4.0</td>\n",
       "      <td>1322252335</td>\n",
       "    </tr>\n",
       "    <tr>\n",
       "      <th>8344</th>\n",
       "      <td>57</td>\n",
       "      <td>2115</td>\n",
       "      <td>3.0</td>\n",
       "      <td>965798155</td>\n",
       "    </tr>\n",
       "    <tr>\n",
       "      <th>99603</th>\n",
       "      <td>610</td>\n",
       "      <td>1127</td>\n",
       "      <td>4.0</td>\n",
       "      <td>1479544102</td>\n",
       "    </tr>\n",
       "    <tr>\n",
       "      <th>71701</th>\n",
       "      <td>462</td>\n",
       "      <td>2409</td>\n",
       "      <td>2.0</td>\n",
       "      <td>1174438249</td>\n",
       "    </tr>\n",
       "  </tbody>\n",
       "</table>\n",
       "</div>"
      ],
      "text/plain": [
       "       userId  movieId  rating   timestamp\n",
       "80568     509     7347     3.0  1435994597\n",
       "50582     326    71462     4.0  1322252335\n",
       "8344       57     2115     3.0   965798155\n",
       "99603     610     1127     4.0  1479544102\n",
       "71701     462     2409     2.0  1174438249"
      ]
     },
     "execution_count": 53,
     "metadata": {},
     "output_type": "execute_result"
    }
   ],
   "source": [
    "rating_train.head()"
   ]
  },
  {
   "cell_type": "code",
   "execution_count": 54,
   "metadata": {},
   "outputs": [
    {
     "data": {
      "text/html": [
       "<div>\n",
       "<style scoped>\n",
       "    .dataframe tbody tr th:only-of-type {\n",
       "        vertical-align: middle;\n",
       "    }\n",
       "\n",
       "    .dataframe tbody tr th {\n",
       "        vertical-align: top;\n",
       "    }\n",
       "\n",
       "    .dataframe thead th {\n",
       "        text-align: right;\n",
       "    }\n",
       "</style>\n",
       "<table border=\"1\" class=\"dataframe\">\n",
       "  <thead>\n",
       "    <tr style=\"text-align: right;\">\n",
       "      <th></th>\n",
       "      <th>userId</th>\n",
       "      <th>movieId</th>\n",
       "      <th>rating</th>\n",
       "      <th>timestamp</th>\n",
       "    </tr>\n",
       "  </thead>\n",
       "  <tbody>\n",
       "    <tr>\n",
       "      <th>67037</th>\n",
       "      <td>432</td>\n",
       "      <td>77866</td>\n",
       "      <td>4.5</td>\n",
       "      <td>1335139641</td>\n",
       "    </tr>\n",
       "    <tr>\n",
       "      <th>42175</th>\n",
       "      <td>288</td>\n",
       "      <td>474</td>\n",
       "      <td>3.0</td>\n",
       "      <td>978465565</td>\n",
       "    </tr>\n",
       "    <tr>\n",
       "      <th>93850</th>\n",
       "      <td>599</td>\n",
       "      <td>4351</td>\n",
       "      <td>3.0</td>\n",
       "      <td>1498524542</td>\n",
       "    </tr>\n",
       "    <tr>\n",
       "      <th>6187</th>\n",
       "      <td>42</td>\n",
       "      <td>2987</td>\n",
       "      <td>4.0</td>\n",
       "      <td>996262677</td>\n",
       "    </tr>\n",
       "    <tr>\n",
       "      <th>12229</th>\n",
       "      <td>75</td>\n",
       "      <td>1610</td>\n",
       "      <td>4.0</td>\n",
       "      <td>1158989841</td>\n",
       "    </tr>\n",
       "  </tbody>\n",
       "</table>\n",
       "</div>"
      ],
      "text/plain": [
       "       userId  movieId  rating   timestamp\n",
       "67037     432    77866     4.5  1335139641\n",
       "42175     288      474     3.0   978465565\n",
       "93850     599     4351     3.0  1498524542\n",
       "6187       42     2987     4.0   996262677\n",
       "12229      75     1610     4.0  1158989841"
      ]
     },
     "execution_count": 54,
     "metadata": {},
     "output_type": "execute_result"
    }
   ],
   "source": [
    "ratings_test.head()"
   ]
  },
  {
   "cell_type": "code",
   "execution_count": 55,
   "metadata": {},
   "outputs": [
    {
     "data": {
      "text/html": [
       "<div>\n",
       "<style scoped>\n",
       "    .dataframe tbody tr th:only-of-type {\n",
       "        vertical-align: middle;\n",
       "    }\n",
       "\n",
       "    .dataframe tbody tr th {\n",
       "        vertical-align: top;\n",
       "    }\n",
       "\n",
       "    .dataframe thead th {\n",
       "        text-align: right;\n",
       "    }\n",
       "</style>\n",
       "<table border=\"1\" class=\"dataframe\">\n",
       "  <thead>\n",
       "    <tr style=\"text-align: right;\">\n",
       "      <th></th>\n",
       "      <th>userId</th>\n",
       "      <th>movieId</th>\n",
       "      <th>rating</th>\n",
       "      <th>timestamp</th>\n",
       "    </tr>\n",
       "  </thead>\n",
       "  <tbody>\n",
       "    <tr>\n",
       "      <th>0</th>\n",
       "      <td>1</td>\n",
       "      <td>1</td>\n",
       "      <td>4.0</td>\n",
       "      <td>964982703</td>\n",
       "    </tr>\n",
       "    <tr>\n",
       "      <th>1</th>\n",
       "      <td>1</td>\n",
       "      <td>3</td>\n",
       "      <td>4.0</td>\n",
       "      <td>964981247</td>\n",
       "    </tr>\n",
       "    <tr>\n",
       "      <th>2</th>\n",
       "      <td>1</td>\n",
       "      <td>6</td>\n",
       "      <td>4.0</td>\n",
       "      <td>964982224</td>\n",
       "    </tr>\n",
       "    <tr>\n",
       "      <th>3</th>\n",
       "      <td>1</td>\n",
       "      <td>47</td>\n",
       "      <td>5.0</td>\n",
       "      <td>964983815</td>\n",
       "    </tr>\n",
       "    <tr>\n",
       "      <th>4</th>\n",
       "      <td>1</td>\n",
       "      <td>50</td>\n",
       "      <td>5.0</td>\n",
       "      <td>964982931</td>\n",
       "    </tr>\n",
       "  </tbody>\n",
       "</table>\n",
       "</div>"
      ],
      "text/plain": [
       "   userId  movieId  rating  timestamp\n",
       "0       1        1     4.0  964982703\n",
       "1       1        3     4.0  964981247\n",
       "2       1        6     4.0  964982224\n",
       "3       1       47     5.0  964983815\n",
       "4       1       50     5.0  964982931"
      ]
     },
     "execution_count": 55,
     "metadata": {},
     "output_type": "execute_result"
    }
   ],
   "source": [
    "ratings.head()"
   ]
  },
  {
   "cell_type": "code",
   "execution_count": 56,
   "metadata": {},
   "outputs": [
    {
     "data": {
      "text/html": [
       "<div>\n",
       "<style scoped>\n",
       "    .dataframe tbody tr th:only-of-type {\n",
       "        vertical-align: middle;\n",
       "    }\n",
       "\n",
       "    .dataframe tbody tr th {\n",
       "        vertical-align: top;\n",
       "    }\n",
       "\n",
       "    .dataframe thead th {\n",
       "        text-align: right;\n",
       "    }\n",
       "</style>\n",
       "<table border=\"1\" class=\"dataframe\">\n",
       "  <thead>\n",
       "    <tr style=\"text-align: right;\">\n",
       "      <th></th>\n",
       "      <th>movieId</th>\n",
       "      <th>title</th>\n",
       "      <th>genres</th>\n",
       "    </tr>\n",
       "  </thead>\n",
       "  <tbody>\n",
       "    <tr>\n",
       "      <th>0</th>\n",
       "      <td>1</td>\n",
       "      <td>Toy Story (1995)</td>\n",
       "      <td>Adventure|Animation|Children|Comedy|Fantasy</td>\n",
       "    </tr>\n",
       "    <tr>\n",
       "      <th>1</th>\n",
       "      <td>2</td>\n",
       "      <td>Jumanji (1995)</td>\n",
       "      <td>Adventure|Children|Fantasy</td>\n",
       "    </tr>\n",
       "    <tr>\n",
       "      <th>2</th>\n",
       "      <td>3</td>\n",
       "      <td>Grumpier Old Men (1995)</td>\n",
       "      <td>Comedy|Romance</td>\n",
       "    </tr>\n",
       "    <tr>\n",
       "      <th>3</th>\n",
       "      <td>4</td>\n",
       "      <td>Waiting to Exhale (1995)</td>\n",
       "      <td>Comedy|Drama|Romance</td>\n",
       "    </tr>\n",
       "    <tr>\n",
       "      <th>4</th>\n",
       "      <td>5</td>\n",
       "      <td>Father of the Bride Part II (1995)</td>\n",
       "      <td>Comedy</td>\n",
       "    </tr>\n",
       "  </tbody>\n",
       "</table>\n",
       "</div>"
      ],
      "text/plain": [
       "   movieId                               title  \\\n",
       "0        1                    Toy Story (1995)   \n",
       "1        2                      Jumanji (1995)   \n",
       "2        3             Grumpier Old Men (1995)   \n",
       "3        4            Waiting to Exhale (1995)   \n",
       "4        5  Father of the Bride Part II (1995)   \n",
       "\n",
       "                                        genres  \n",
       "0  Adventure|Animation|Children|Comedy|Fantasy  \n",
       "1                   Adventure|Children|Fantasy  \n",
       "2                               Comedy|Romance  \n",
       "3                         Comedy|Drama|Romance  \n",
       "4                                       Comedy  "
      ]
     },
     "execution_count": 56,
     "metadata": {},
     "output_type": "execute_result"
    }
   ],
   "source": [
    "movies.head()"
   ]
  },
  {
   "cell_type": "code",
   "execution_count": 57,
   "metadata": {},
   "outputs": [],
   "source": [
    "from collections import OrderedDict\n",
    "class MovieRecSys:\n",
    "    def __init__(self, movies, reviews):\n",
    "        self.movies = self._get_movies(movies.copy())\n",
    "        self.reviews = self._get_reviews(reviews.copy())\n",
    "        self.movie_views = self._get_views()\n",
    "        self.movie_avg_ratings = self._get_avg_ratings()\n",
    "\n",
    "    def _get_movies(self, movies):\n",
    "        movies['genres'] = movies['genres'].apply(lambda x: set(x.split('|')))\n",
    "        movies_dict = movies.set_index('movieId').to_dict(orient='index')\n",
    "        return movies_dict\n",
    "    \n",
    "    def _get_reviews(self, reviews):\n",
    "        # Convert 'timestamp' to datetime\n",
    "        reviews['timestamp'] = pd.to_datetime(reviews['timestamp'], unit='s')\n",
    "\n",
    "        # Convert 'timestamp' to ISO format\n",
    "        reviews['timestamp'] = reviews['timestamp'].dt.strftime('%Y-%m-%dT%H:%M:%S')\n",
    "        return reviews\n",
    "    \n",
    "    def _get_views(self):\n",
    "        reviews = self.reviews\n",
    "        counts = reviews.groupby('movieId').count()['userId'].to_dict()\n",
    "        ordered_counts = OrderedDict(sorted(counts.items(), key=lambda x: x[1], reverse=True))\n",
    "        return ordered_counts\n",
    "    \n",
    "    def _get_avg_ratings(self):\n",
    "        reviews = self.reviews\n",
    "        counts = reviews.groupby('movieId')['rating'].mean().to_dict()\n",
    "        ordered_counts = OrderedDict(sorted(counts.items(), key=lambda x: x[1], reverse=True))\n",
    "        return ordered_counts\n",
    "    \n",
    "    def most_popular(self, top_k=10):\n",
    "        # Get the top k most viewed movies\n",
    "        top_k_movies = list(self.movie_views.items())[:top_k]\n",
    "        response = list(map(lambda x: f\"id: {x[0]: <10} {self.movies[x[0]]['title']: <80} counts: {x[1]}\", top_k_movies))\n",
    "        return response\n",
    "    \n",
    "    def top_rated(self, top_k=10):\n",
    "        top_k_movies = list(self.movie_avg_ratings.items())[:top_k]\n",
    "        response = list(map(lambda x: f\"id: {x[0]: <10} {self.movies[x[0]]['title']: <80} counts: {x[1]}\", top_k_movies))\n",
    "        return response\n"
   ]
  },
  {
   "cell_type": "code",
   "execution_count": 58,
   "metadata": {},
   "outputs": [
    {
     "name": "stdout",
     "output_type": "stream",
     "text": [
      "Most viewed:\n",
      "id: 356        Forrest Gump (1994)                                                              counts: 276\n",
      "id: 318        Shawshank Redemption, The (1994)                                                 counts: 257\n",
      "id: 296        Pulp Fiction (1994)                                                              counts: 256\n",
      "id: 593        Silence of the Lambs, The (1991)                                                 counts: 226\n",
      "id: 2571       Matrix, The (1999)                                                               counts: 214\n",
      "id: 260        Star Wars: Episode IV - A New Hope (1977)                                        counts: 194\n",
      "id: 110        Braveheart (1995)                                                                counts: 189\n",
      "id: 480        Jurassic Park (1993)                                                             counts: 185\n",
      "id: 589        Terminator 2: Judgment Day (1991)                                                counts: 182\n",
      "id: 1          Toy Story (1995)                                                                 counts: 174\n",
      "\n",
      "Top Rated:\n",
      "id: 53         Lamerica (1994)                                                                  counts: 5.0\n",
      "id: 99         Heidi Fleiss: Hollywood Madam (1995)                                             counts: 5.0\n",
      "id: 148        Awfully Big Adventure, An (1995)                                                 counts: 5.0\n",
      "id: 467        Live Nude Girls (1995)                                                           counts: 5.0\n",
      "id: 484        Lassie (1994)                                                                    counts: 5.0\n",
      "id: 495        In the Realm of the Senses (Ai no corrida) (1976)                                counts: 5.0\n",
      "id: 496        What Happened Was... (1994)                                                      counts: 5.0\n",
      "id: 626        Thin Line Between Love and Hate, A (1996)                                        counts: 5.0\n",
      "id: 633        Denise Calls Up (1995)                                                           counts: 5.0\n",
      "id: 1123       Perfect Candidate, A (1996)                                                      counts: 5.0\n"
     ]
    }
   ],
   "source": [
    "mdb = MovieRecSys(movies, rating_train)\n",
    "print('Most viewed:')\n",
    "print(*mdb.most_popular(), sep='\\n')\n",
    "print('\\nTop Rated:')\n",
    "print(*mdb.top_rated(), sep='\\n')"
   ]
  },
  {
   "cell_type": "code",
   "execution_count": 59,
   "metadata": {},
   "outputs": [
    {
     "data": {
      "text/html": [
       "<div>\n",
       "<style scoped>\n",
       "    .dataframe tbody tr th:only-of-type {\n",
       "        vertical-align: middle;\n",
       "    }\n",
       "\n",
       "    .dataframe tbody tr th {\n",
       "        vertical-align: top;\n",
       "    }\n",
       "\n",
       "    .dataframe thead th {\n",
       "        text-align: right;\n",
       "    }\n",
       "</style>\n",
       "<table border=\"1\" class=\"dataframe\">\n",
       "  <thead>\n",
       "    <tr style=\"text-align: right;\">\n",
       "      <th></th>\n",
       "      <th>userId</th>\n",
       "      <th>movieId</th>\n",
       "      <th>rating</th>\n",
       "      <th>timestamp</th>\n",
       "    </tr>\n",
       "  </thead>\n",
       "  <tbody>\n",
       "    <tr>\n",
       "      <th>80568</th>\n",
       "      <td>509</td>\n",
       "      <td>7347</td>\n",
       "      <td>3.0</td>\n",
       "      <td>2015-07-04T07:23:17</td>\n",
       "    </tr>\n",
       "    <tr>\n",
       "      <th>50582</th>\n",
       "      <td>326</td>\n",
       "      <td>71462</td>\n",
       "      <td>4.0</td>\n",
       "      <td>2011-11-25T20:18:55</td>\n",
       "    </tr>\n",
       "    <tr>\n",
       "      <th>8344</th>\n",
       "      <td>57</td>\n",
       "      <td>2115</td>\n",
       "      <td>3.0</td>\n",
       "      <td>2000-08-09T05:15:55</td>\n",
       "    </tr>\n",
       "    <tr>\n",
       "      <th>99603</th>\n",
       "      <td>610</td>\n",
       "      <td>1127</td>\n",
       "      <td>4.0</td>\n",
       "      <td>2016-11-19T08:28:22</td>\n",
       "    </tr>\n",
       "    <tr>\n",
       "      <th>71701</th>\n",
       "      <td>462</td>\n",
       "      <td>2409</td>\n",
       "      <td>2.0</td>\n",
       "      <td>2007-03-21T00:50:49</td>\n",
       "    </tr>\n",
       "    <tr>\n",
       "      <th>...</th>\n",
       "      <td>...</td>\n",
       "      <td>...</td>\n",
       "      <td>...</td>\n",
       "      <td>...</td>\n",
       "    </tr>\n",
       "    <tr>\n",
       "      <th>6265</th>\n",
       "      <td>42</td>\n",
       "      <td>4005</td>\n",
       "      <td>4.0</td>\n",
       "      <td>2001-07-27T18:37:39</td>\n",
       "    </tr>\n",
       "    <tr>\n",
       "      <th>54886</th>\n",
       "      <td>364</td>\n",
       "      <td>141</td>\n",
       "      <td>4.0</td>\n",
       "      <td>1997-07-21T00:02:47</td>\n",
       "    </tr>\n",
       "    <tr>\n",
       "      <th>76820</th>\n",
       "      <td>480</td>\n",
       "      <td>6867</td>\n",
       "      <td>4.0</td>\n",
       "      <td>2007-05-14T17:19:31</td>\n",
       "    </tr>\n",
       "    <tr>\n",
       "      <th>860</th>\n",
       "      <td>6</td>\n",
       "      <td>981</td>\n",
       "      <td>3.0</td>\n",
       "      <td>1996-10-17T12:49:27</td>\n",
       "    </tr>\n",
       "    <tr>\n",
       "      <th>15795</th>\n",
       "      <td>103</td>\n",
       "      <td>6711</td>\n",
       "      <td>5.0</td>\n",
       "      <td>2015-05-18T13:57:05</td>\n",
       "    </tr>\n",
       "  </tbody>\n",
       "</table>\n",
       "<p>80668 rows × 4 columns</p>\n",
       "</div>"
      ],
      "text/plain": [
       "       userId  movieId  rating            timestamp\n",
       "80568     509     7347     3.0  2015-07-04T07:23:17\n",
       "50582     326    71462     4.0  2011-11-25T20:18:55\n",
       "8344       57     2115     3.0  2000-08-09T05:15:55\n",
       "99603     610     1127     4.0  2016-11-19T08:28:22\n",
       "71701     462     2409     2.0  2007-03-21T00:50:49\n",
       "...       ...      ...     ...                  ...\n",
       "6265       42     4005     4.0  2001-07-27T18:37:39\n",
       "54886     364      141     4.0  1997-07-21T00:02:47\n",
       "76820     480     6867     4.0  2007-05-14T17:19:31\n",
       "860         6      981     3.0  1996-10-17T12:49:27\n",
       "15795     103     6711     5.0  2015-05-18T13:57:05\n",
       "\n",
       "[80668 rows x 4 columns]"
      ]
     },
     "execution_count": 59,
     "metadata": {},
     "output_type": "execute_result"
    }
   ],
   "source": [
    "mdb.reviews"
   ]
  },
  {
   "cell_type": "code",
   "execution_count": 106,
   "metadata": {},
   "outputs": [],
   "source": [
    "def euc_similarity(user_1_items, user_2_items):\n",
    "    common_items = set(user_1_items.keys()).intersection(set(user_2_items.keys()))\n",
    "\n",
    "    if len(common_items) == 0:\n",
    "        # No common movies, return a similarity of 0\n",
    "        return 0\n",
    "    dist = np.sqrt(np.sum([(user_1_items[key] - user_2_items[key])**2 for key in common_items]))\n",
    "    similarity = 1 / (1 + dist)\n",
    "    return similarity\n",
    "\n",
    "def pearson_similarity(user_1_items, user_2_items):\n",
    "\n",
    "        common_items = set(user_1_items.keys()).intersection(set(user_2_items.keys()))\n",
    "    \n",
    "        if len(common_items) == 0:\n",
    "            # No common movies, return a similarity of 0\n",
    "            return 0\n",
    "        ratings_user1 = [user_1_items[item] for item in common_items]\n",
    "        ratings_user2 = [user_2_items[item] for item in common_items]\n",
    "\n",
    "        if len(ratings_user1) < 3 or len(ratings_user2) < 3:\n",
    "            # Not enough data points to calculate correlation, return 0\n",
    "            return 0\n",
    "        else:\n",
    "            return np.corrcoef(ratings_user1, ratings_user2)[0, 1]\n",
    "\n",
    "    "
   ]
  },
  {
   "cell_type": "code",
   "execution_count": 108,
   "metadata": {},
   "outputs": [
    {
     "name": "stdout",
     "output_type": "stream",
     "text": [
      "[1, 2, 1]\n",
      "[5, 2, 5]\n"
     ]
    },
    {
     "data": {
      "text/plain": [
       "-1.0"
      ]
     },
     "execution_count": 108,
     "metadata": {},
     "output_type": "execute_result"
    }
   ],
   "source": [
    "r = {'user1': {1: 1, 2: 2, 3: 1}, 'user3': {1:5, 2:2, 3:5}}\n",
    "pearson_similarity(r, 'user1', 'user3')"
   ]
  },
  {
   "cell_type": "code",
   "execution_count": 109,
   "metadata": {},
   "outputs": [
    {
     "name": "stdout",
     "output_type": "stream",
     "text": [
      "1.0\n",
      "-1.0\n"
     ]
    }
   ],
   "source": [
    "user1 = r['user1']\n",
    "user2 = {1:1}\n",
    "user3 = r['user3']\n",
    "\n",
    "print(euc_similarity(user1, user2))\n",
    "print(pearson_similarity(user1, user3))"
   ]
  },
  {
   "cell_type": "code",
   "execution_count": 121,
   "metadata": {},
   "outputs": [],
   "source": [
    "class SimilarityRecSys:\n",
    "    def __init__(self, movies, reviews, similarity_function):\n",
    "        self.movies = self._get_movies(movies.copy())\n",
    "        self.reviews = self._get_reviews(reviews.copy())\n",
    "        self.sim_function = similarity_function\n",
    "\n",
    "    def _get_movies(self, movies):\n",
    "        movies['genres'] = movies['genres'].apply(lambda x: set(x.split('|')))\n",
    "        movies_dict = movies.set_index('movieId').to_dict(orient='index')\n",
    "        return movies_dict\n",
    "    \n",
    "    def _get_reviews(self, reviews):\n",
    "        # Convert 'timestamp' to datetime\n",
    "        review_dict = {}\n",
    "        for _, row in reviews.iterrows():\n",
    "            user_id = row['userId']\n",
    "            movie_id = int(row['movieId'])\n",
    "            rating = row['rating']\n",
    "            if user_id not in review_dict:\n",
    "                review_dict[user_id] = {}\n",
    "            review_dict[user_id][movie_id] = rating\n",
    "        return review_dict\n",
    "    \n",
    "    def _sort_users(self, key_user):\n",
    "        similarities = []\n",
    "        for user in self.reviews:\n",
    "            if user != key_user:\n",
    "                similarities.append((user, self.sim_function(self.reviews[key_user], self.reviews[user])))\n",
    "        return sorted(similarities, key=lambda x: x[1], reverse=True)\n",
    "\n",
    "    def _get_rankings(self, similarities, key_user, similarity_threshold=0):\n",
    "        movie_scores = {}\n",
    "        sum_sim = {}\n",
    "        for user, sim_score in similarities:\n",
    "            if sim_score <= similarity_threshold:\n",
    "                continue\n",
    "            for movie_id, score in self.reviews[user].items():\n",
    "                if self.reviews[key_user].get(movie_id, 0) == 0:\n",
    "                    movie_scores.setdefault(movie_id, 0)\n",
    "                    movie_scores[movie_id] += score*sim_score \n",
    "                    sum_sim.setdefault(movie_id, 0)\n",
    "                    sum_sim[movie_id] += sim_score\n",
    "        for movie_id, score in movie_scores.items():\n",
    "            if not score > 0:\n",
    "                print(movie_id, score)\n",
    "        ranks = [(movie_id, score/sum_sim[movie_id]) for movie_id, score in movie_scores.items()]\n",
    "        ranks = sorted(ranks, key=lambda x: x[1], reverse=True)\n",
    "        return ranks\n",
    "\n",
    "    def recommend_for_user(self, user, top_k=10):\n",
    "        similarities = self._sort_users(user)\n",
    "        movies_rankings = self._get_rankings(similarities, user)\n",
    "        top_k_movies = movies_rankings[:top_k]\n",
    "        response = list(map(lambda x: f\"id: {x[0]: <10} {self.movies[x[0]]['title']: <80} counts: {x[1]}\", top_k_movies))\n",
    "        return response\n"
   ]
  },
  {
   "cell_type": "code",
   "execution_count": 122,
   "metadata": {},
   "outputs": [
    {
     "data": {
      "text/plain": [
       "['id: 136556     Kung Fu Panda: Secrets of the Masters (2011)                                     counts: 5.000000000000001',\n",
       " 'id: 6983       Jane Eyre (1944)                                                                 counts: 5.0',\n",
       " 'id: 626        Thin Line Between Love and Hate, A (1996)                                        counts: 5.0',\n",
       " 'id: 53         Lamerica (1994)                                                                  counts: 5.0',\n",
       " 'id: 3567       Bossa Nova (2000)                                                                counts: 5.0',\n",
       " 'id: 3940       Slumber Party Massacre III (1990)                                                counts: 5.0',\n",
       " 'id: 3941       Sorority House Massacre (1986)                                                   counts: 5.0',\n",
       " 'id: 3942       Sorority House Massacre II (1990)                                                counts: 5.0',\n",
       " 'id: 3939       Slumber Party Massacre II (1987)                                                 counts: 5.0',\n",
       " 'id: 26078      Advise and Consent (1962)                                                        counts: 5.0']"
      ]
     },
     "execution_count": 122,
     "metadata": {},
     "output_type": "execute_result"
    }
   ],
   "source": [
    "src = SimilarityRecSys(movies, rating_train, euc_similarity)\n",
    "users_test = ratings_test['userId'].unique()\n",
    "src.recommend_for_user(users_test[0])"
   ]
  },
  {
   "cell_type": "code",
   "execution_count": 124,
   "metadata": {},
   "outputs": [
    {
     "name": "stdout",
     "output_type": "stream",
     "text": [
      "   movieId             title                                       genres\n",
      "0        1  Toy Story (1995)  Adventure|Animation|Children|Comedy|Fantasy\n",
      "1        2    Jumanji (1995)                   Adventure|Children|Fantasy\n",
      "\n",
      "       userId  movieId  rating   timestamp\n",
      "80568     509     7347     3.0  1435994597\n",
      "50582     326    71462     4.0  1322252335\n"
     ]
    }
   ],
   "source": [
    "print(movies.head(2))\n",
    "print()\n",
    "print(rating_train.head(2))"
   ]
  },
  {
   "cell_type": "code",
   "execution_count": 127,
   "metadata": {},
   "outputs": [],
   "source": [
    "from scipy import sparse as sp\n",
    "\n",
    "def get_reviews(reviews):\n",
    "        review_dict = {}\n",
    "        for _, row in reviews.iterrows():\n",
    "            user_id = row['userId']\n",
    "            movie_id = int(row['movieId'])\n",
    "            rating = row['rating']\n",
    "            if user_id not in review_dict:\n",
    "                review_dict[user_id] = {}\n",
    "            review_dict[user_id][movie_id] = rating\n",
    "        return review_dict\n",
    "\n"
   ]
  },
  {
   "cell_type": "code",
   "execution_count": 129,
   "metadata": {},
   "outputs": [
    {
     "data": {
      "text/html": [
       "<div>\n",
       "<style scoped>\n",
       "    .dataframe tbody tr th:only-of-type {\n",
       "        vertical-align: middle;\n",
       "    }\n",
       "\n",
       "    .dataframe tbody tr th {\n",
       "        vertical-align: top;\n",
       "    }\n",
       "\n",
       "    .dataframe thead th {\n",
       "        text-align: right;\n",
       "    }\n",
       "</style>\n",
       "<table border=\"1\" class=\"dataframe\">\n",
       "  <thead>\n",
       "    <tr style=\"text-align: right;\">\n",
       "      <th></th>\n",
       "      <th>userId</th>\n",
       "      <th>movieId</th>\n",
       "      <th>rating</th>\n",
       "      <th>timestamp</th>\n",
       "    </tr>\n",
       "  </thead>\n",
       "  <tbody>\n",
       "    <tr>\n",
       "      <th>0</th>\n",
       "      <td>1</td>\n",
       "      <td>1</td>\n",
       "      <td>4.0</td>\n",
       "      <td>964982703</td>\n",
       "    </tr>\n",
       "    <tr>\n",
       "      <th>1</th>\n",
       "      <td>1</td>\n",
       "      <td>3</td>\n",
       "      <td>4.0</td>\n",
       "      <td>964981247</td>\n",
       "    </tr>\n",
       "    <tr>\n",
       "      <th>2</th>\n",
       "      <td>1</td>\n",
       "      <td>6</td>\n",
       "      <td>4.0</td>\n",
       "      <td>964982224</td>\n",
       "    </tr>\n",
       "    <tr>\n",
       "      <th>3</th>\n",
       "      <td>1</td>\n",
       "      <td>47</td>\n",
       "      <td>5.0</td>\n",
       "      <td>964983815</td>\n",
       "    </tr>\n",
       "    <tr>\n",
       "      <th>4</th>\n",
       "      <td>1</td>\n",
       "      <td>50</td>\n",
       "      <td>5.0</td>\n",
       "      <td>964982931</td>\n",
       "    </tr>\n",
       "    <tr>\n",
       "      <th>...</th>\n",
       "      <td>...</td>\n",
       "      <td>...</td>\n",
       "      <td>...</td>\n",
       "      <td>...</td>\n",
       "    </tr>\n",
       "    <tr>\n",
       "      <th>227</th>\n",
       "      <td>1</td>\n",
       "      <td>3744</td>\n",
       "      <td>4.0</td>\n",
       "      <td>964980694</td>\n",
       "    </tr>\n",
       "    <tr>\n",
       "      <th>228</th>\n",
       "      <td>1</td>\n",
       "      <td>3793</td>\n",
       "      <td>5.0</td>\n",
       "      <td>964981855</td>\n",
       "    </tr>\n",
       "    <tr>\n",
       "      <th>229</th>\n",
       "      <td>1</td>\n",
       "      <td>3809</td>\n",
       "      <td>4.0</td>\n",
       "      <td>964981220</td>\n",
       "    </tr>\n",
       "    <tr>\n",
       "      <th>230</th>\n",
       "      <td>1</td>\n",
       "      <td>4006</td>\n",
       "      <td>4.0</td>\n",
       "      <td>964982903</td>\n",
       "    </tr>\n",
       "    <tr>\n",
       "      <th>231</th>\n",
       "      <td>1</td>\n",
       "      <td>5060</td>\n",
       "      <td>5.0</td>\n",
       "      <td>964984002</td>\n",
       "    </tr>\n",
       "  </tbody>\n",
       "</table>\n",
       "<p>232 rows × 4 columns</p>\n",
       "</div>"
      ],
      "text/plain": [
       "     userId  movieId  rating  timestamp\n",
       "0         1        1     4.0  964982703\n",
       "1         1        3     4.0  964981247\n",
       "2         1        6     4.0  964982224\n",
       "3         1       47     5.0  964983815\n",
       "4         1       50     5.0  964982931\n",
       "..      ...      ...     ...        ...\n",
       "227       1     3744     4.0  964980694\n",
       "228       1     3793     5.0  964981855\n",
       "229       1     3809     4.0  964981220\n",
       "230       1     4006     4.0  964982903\n",
       "231       1     5060     5.0  964984002\n",
       "\n",
       "[232 rows x 4 columns]"
      ]
     },
     "execution_count": 129,
     "metadata": {},
     "output_type": "execute_result"
    }
   ],
   "source": [
    "ratings[ratings['userId']==1]"
   ]
  },
  {
   "cell_type": "code",
   "execution_count": 128,
   "metadata": {},
   "outputs": [
    {
     "name": "stdout",
     "output_type": "stream",
     "text": [
      "Sparse Matrix (COO format):\n",
      "  (1, 1)\t4.0\n",
      "  (1, 3)\t4.0\n",
      "  (1, 6)\t4.0\n",
      "  (1, 47)\t5.0\n",
      "  (1, 50)\t5.0\n",
      "  (1, 70)\t3.0\n",
      "  (1, 101)\t5.0\n",
      "  (1, 110)\t4.0\n",
      "  (1, 151)\t5.0\n",
      "  (1, 157)\t5.0\n",
      "  (1, 163)\t5.0\n",
      "  (1, 216)\t5.0\n",
      "  (1, 223)\t3.0\n",
      "  (1, 231)\t5.0\n",
      "  (1, 235)\t4.0\n",
      "  (1, 260)\t5.0\n",
      "  (1, 296)\t3.0\n",
      "  (1, 316)\t3.0\n",
      "  (1, 333)\t5.0\n",
      "  (1, 349)\t4.0\n",
      "  (1, 356)\t4.0\n",
      "  (1, 362)\t5.0\n",
      "  (1, 367)\t4.0\n",
      "  (1, 423)\t3.0\n",
      "  (1, 441)\t4.0\n",
      "  :\t:\n",
      "  (610, 156371)\t5.0\n",
      "  (610, 156726)\t4.5\n",
      "  (610, 157296)\t4.0\n",
      "  (610, 158238)\t5.0\n",
      "  (610, 158721)\t3.5\n",
      "  (610, 158872)\t3.5\n",
      "  (610, 158956)\t3.0\n",
      "  (610, 159093)\t3.0\n",
      "  (610, 160080)\t3.0\n",
      "  (610, 160341)\t2.5\n",
      "  (610, 160527)\t4.5\n",
      "  (610, 160571)\t3.0\n",
      "  (610, 160836)\t3.0\n",
      "  (610, 161582)\t4.0\n",
      "  (610, 161634)\t4.0\n",
      "  (610, 162350)\t3.5\n",
      "  (610, 163937)\t3.5\n",
      "  (610, 163981)\t3.5\n",
      "  (610, 164179)\t5.0\n",
      "  (610, 166528)\t4.0\n",
      "  (610, 166534)\t4.0\n",
      "  (610, 168248)\t5.0\n",
      "  (610, 168250)\t5.0\n",
      "  (610, 168252)\t5.0\n",
      "  (610, 170875)\t3.0\n"
     ]
    }
   ],
   "source": [
    "# Example: Create a COO matrix from the 'ratings' DataFrame\n",
    "rows = ratings['userId'].values\n",
    "cols = ratings['movieId'].values\n",
    "values = ratings['rating'].values\n",
    "\n",
    "# Create a sparse matrix in COO format\n",
    "sparse_matrix_coo = sp.coo_matrix((values, (rows, cols))).tocsr()\n",
    "\n",
    "print(\"Sparse Matrix (COO format):\")\n",
    "print(sparse_matrix_coo)"
   ]
  },
  {
   "cell_type": "code",
   "execution_count": 134,
   "metadata": {},
   "outputs": [
    {
     "name": "stdout",
     "output_type": "stream",
     "text": [
      "[   1    3    6   47   50   70  101  110  151  157  163  216  223  231\n",
      "  235  260  296  316  333  349  356  362  367  423  441  457  480  500\n",
      "  527  543  552  553  590  592  593  596  608  648  661  673  733  736\n",
      "  780  804  919  923  940  943  954 1009 1023 1024 1025 1029 1030 1031\n",
      " 1032 1042 1049 1060 1073 1080 1089 1090 1092 1097 1127 1136 1196 1197\n",
      " 1198 1206 1208 1210 1213 1214 1219 1220 1222 1224 1226 1240 1256 1258\n",
      " 1265 1270 1275 1278 1282 1291 1298 1348 1377 1396 1408 1445 1473 1500\n",
      " 1517 1552 1573 1580 1587 1617 1620 1625 1644 1676 1732 1777 1793 1804\n",
      " 1805 1920 1927 1954 1967 2000 2005 2012 2018 2028 2033 2046 2048 2054\n",
      " 2058 2078 2090 2093 2094 2096 2099 2105 2115 2116 2137 2139 2141 2143\n",
      " 2161 2174 2193 2253 2268 2273 2291 2329 2338 2353 2366 2387 2389 2395\n",
      " 2406 2414 2427 2450 2459 2470 2478 2492 2502 2528 2529 2542 2571 2580\n",
      " 2596 2616 2617 2628 2640 2641 2644 2648 2654 2657 2692 2700 2716 2761\n",
      " 2797 2826 2858 2872 2899 2916 2944 2947 2948 2949 2959 2985 2987 2991\n",
      " 2993 2997 3033 3034 3052 3053 3062 3147 3168 3176 3243 3247 3253 3273\n",
      " 3386 3439 3440 3441 3448 3450 3479 3489 3527 3578 3617 3639 3671 3702\n",
      " 3703 3729 3740 3744 3793 3809 4006 5060]\n"
     ]
    }
   ],
   "source": [
    "# Get non-empty column indices for the first row (row index 0)\n",
    "# Get non-empty column indices for the first row (row index 0)\n",
    "row_index = 1\n",
    "non_empty_column_indices = sparse_matrix_coo.indices[\n",
    "    sparse_matrix_coo.indptr[row_index]:sparse_matrix_coo.indptr[row_index + 1]\n",
    "]\n",
    "\n",
    "print(non_empty_column_indices)"
   ]
  },
  {
   "cell_type": "code",
   "execution_count": 142,
   "metadata": {},
   "outputs": [
    {
     "name": "stdout",
     "output_type": "stream",
     "text": [
      "[   1    3    6   47   50   70  101  110  151  157  163  216  223  231\n",
      "  235  260  296  316  333  349  356  362  367  423  441  457  480  500\n",
      "  527  543  552  553  590  592  593  596  608  648  661  673  733  736\n",
      "  780  804  919  923  940  943  954 1009 1023 1024 1025 1029 1030 1031\n",
      " 1032 1042 1049 1060 1073 1080 1089 1090 1092 1097 1127 1136 1196 1197\n",
      " 1198 1206 1208 1210 1213 1214 1219 1220 1222 1224 1226 1240 1256 1258\n",
      " 1265 1270 1275 1278 1282 1291 1298 1348 1377 1396 1408 1445 1473 1500\n",
      " 1517 1552 1573 1580 1587 1617 1620 1625 1644 1676 1732 1777 1793 1804\n",
      " 1805 1920 1927 1954 1967 2000 2005 2012 2018 2028 2033 2046 2048 2054\n",
      " 2058 2078 2090 2093 2094 2096 2099 2105 2115 2116 2137 2139 2141 2143\n",
      " 2161 2174 2193 2253 2268 2273 2291 2329 2338 2353 2366 2387 2389 2395\n",
      " 2406 2414 2427 2450 2459 2470 2478 2492 2502 2528 2529 2542 2571 2580\n",
      " 2596 2616 2617 2628 2640 2641 2644 2648 2654 2657 2692 2700 2716 2761\n",
      " 2797 2826 2858 2872 2899 2916 2944 2947 2948 2949 2959 2985 2987 2991\n",
      " 2993 2997 3033 3034 3052 3053 3062 3147 3168 3176 3243 3247 3253 3273\n",
      " 3386 3439 3440 3441 3448 3450 3479 3489 3527 3578 3617 3639 3671 3702\n",
      " 3703 3729 3740 3744 3793 3809 4006 5060]\n"
     ]
    }
   ],
   "source": [
    "# Assuming sparse_matrix_csr is your CSR matrix\n",
    "row_index = 1  # Replace with the desired row index\n",
    "\n",
    "# Get the column indices of non-zero elements in the specified row\n",
    "non_empty_column_indices = sparse_matrix_coo[row_index].indices\n",
    "\n",
    "print(non_empty_column_indices)"
   ]
  },
  {
   "cell_type": "code",
   "execution_count": 144,
   "metadata": {},
   "outputs": [
    {
     "name": "stdout",
     "output_type": "stream",
     "text": [
      "[  1   5   7  15  17  18  19  21  27  31  32  33  40  43  44  45  46  50\n",
      "  54  57  63  64  66  68  71  73  76  78  82  86  89  90  91  93  96  98\n",
      " 103 107 112 119 121 124 130 132 134 135 137 140 141 144 145 151 153 155\n",
      " 156 159 160 161 166 167 169 171 177 178 179 182 185 186 191 193 200 201\n",
      " 202 206 213 214 216 217 219 220 223 226 229 232 233 234 239 240 247 249\n",
      " 252 254 263 264 266 269 270 273 274 275 276 277 279 280 282 283 288 290\n",
      " 291 292 293 298 304 307 314 322 323 328 330 332 334 336 337 339 341 347\n",
      " 350 353 357 359 364 367 372 373 378 380 381 382 385 389 391 396 399 401\n",
      " 411 412 414 420 422 432 434 436 438 443 448 451 453 456 460 462 468 469\n",
      " 470 471 474 476 477 480 483 484 488 490 492 500 504 509 514 517 522 524\n",
      " 525 528 529 533 534 541 544 550 555 559 560 561 562 567 570 572 573 579\n",
      " 580 584 587 590 596 597 599 600 601 603 604 605 606 607 608 609 610]\n"
     ]
    }
   ],
   "source": [
    "# Assuming sparse_matrix_csr is your CSR matrix\n",
    "column_index = 1  # Replace with the desired column index\n",
    "\n",
    "# Get the row indices of non-zero elements in the specified column\n",
    "non_empty_row_indices = sparse_matrix_coo[:, column_index].nonzero()[0]\n",
    "\n",
    "print(non_empty_row_indices)"
   ]
  },
  {
   "cell_type": "code",
   "execution_count": 138,
   "metadata": {},
   "outputs": [
    {
     "name": "stdout",
     "output_type": "stream",
     "text": [
      "[  1   5   7  15  17  18  19  21  27  31  32  33  40  43  44  45  46  50\n",
      "  54  57  63  64  66  68  71  73  76  78  82  86  89  90  91  93  96  98\n",
      " 103 107 112 119 121 124 130 132 134 135 137 140 141 144 145 151 153 155\n",
      " 156 159 160 161 166 167 169 171 177 178 179 182 185 186 191 193 200 201\n",
      " 202 206 213 214 216 217 219 220 223 226 229 232 233 234 239 240 247 249\n",
      " 252 254 263 264 266 269 270 273 274 275 276 277 279 280 282 283 288 290\n",
      " 291 292 293 298 304 307 314 322 323 328 330 332 334 336 337 339 341 347\n",
      " 350 353 357 359 364 367 372 373 378 380 381 382 385 389 391 396 399 401\n",
      " 411 412 414 420 422 432 434 436 438 443 448 451 453 456 460 462 468 469\n",
      " 470 471 474 476 477 480 483 484 488 490 492 500 504 509 514 517 522 524\n",
      " 525 528 529 533 534 541 544 550 555 559 560 561 562 567 570 572 573 579\n",
      " 580 584 587 590 596 597 599 600 601 603 604 605 606 607 608 609 610]\n"
     ]
    }
   ],
   "source": [
    "# Assuming sparse_matrix_coo is your CSR matrix\n",
    "column_index = 1  # Replace with the desired column index\n",
    "\n",
    "# Get the column slice for the specified column\n",
    "column_slice = sparse_matrix_coo[:, column_index]\n",
    "\n",
    "# Find the non-zero indices in the column slice\n",
    "non_empty_row_indices = column_slice.nonzero()[0]\n",
    "\n",
    "print(non_empty_row_indices)\n"
   ]
  },
  {
   "cell_type": "code",
   "execution_count": null,
   "metadata": {},
   "outputs": [],
   "source": [
    " R = sp.coo_array((ratings, (user_ids, item_ids)), shape=(num_users, num_items)).tocsr()"
   ]
  },
  {
   "cell_type": "code",
   "execution_count": null,
   "metadata": {},
   "outputs": [],
   "source": [
    "def ALS(user_ids, item_ids, ratings, num_users, num_items, num_dims=32, num_iters=10, eps=1e-7):\n",
    "    R = scs.coo_array((ratings, (user_ids, item_ids)), shape=(num_users, num_items)).tocsr()\n",
    "    X = np.random.randn(num_users, num_dims) #U\n",
    "    Y = np.random.randn(num_items, num_dims) #V\n",
    "    \n",
    "    for t in tqdm(range(num_iters)):\n",
    "        RY = R @ Y\n",
    "        for u in range(num_users):\n",
    "            relevant_items = item_ids[user_ids == u]\n",
    "            Y_rel = Y[relevant_items]\n",
    "            YY = Y_rel.reshape(-1, num_dims, 1) * Y_rel.reshape(-1, 1, num_dims)\n",
    "            X[u] = np.linalg.inv(YY.sum(axis=0) + eps * np.eye(num_dims)) @ RY[u]\n",
    "\n",
    "        RX = R.T @ X\n",
    "        for i in range(num_items):\n",
    "            relevant_users = user_ids[item_ids == i]\n",
    "            X_rel = X[relevant_users]\n",
    "            XX = X_rel.reshape(-1, num_dims, 1) * X_rel.reshape(-1, 1, num_dims)\n",
    "            Y[i] = np.linalg.inv(XX.sum(axis=0) + eps * np.eye(num_dims)) @ RX[i]\n",
    "    \n",
    "    return R, X, Y\n",
    "\n",
    "R, X, Y = ALS(train_ratings.userId, train_ratings.movieId, train_ratings.rating, num_users, num_movies, num_iters=10)"
   ]
  },
  {
   "cell_type": "code",
   "execution_count": null,
   "metadata": {},
   "outputs": [],
   "source": [
    "def _get_R(ratings):\n",
    "    # Example: Create a COO matrix from the 'ratings' DataFrame\n",
    "    rows = ratings['userId'].values\n",
    "    cols = ratings['movieId'].values\n",
    "    values = ratings['rating'].values\n",
    "\n",
    "    # Create a sparse matrix in COO format\n",
    "    R = sp.coo_matrix((values, (rows, cols))).tocsr()\n",
    "    return R\n",
    "\n",
    "def ALS(movies, ratings):\n",
    "    R = _get_R(ratings)\n",
    "    "
   ]
  },
  {
   "cell_type": "code",
   "execution_count": 243,
   "metadata": {},
   "outputs": [],
   "source": [
    "class ALSRecSys:\n",
    "    def __init__(self, movies, reviews):\n",
    "        self.movies = self._get_movies(movies.copy())\n",
    "        self.user_ids = self._get_unique_user_ids(reviews.copy())\n",
    "        self.movie_ids = self._get_inique_movie_ids()\n",
    "        self.u2idx = self._get_u2idx()\n",
    "        self.m2idx = self._get_m2idx()\n",
    "        self.idx2u = self._get_idx2u()\n",
    "        self.idx2m = self._get_idx2m()\n",
    "        self.R = self._get_R(reviews.copy())\n",
    "        X, Y = self._ALS_fit()\n",
    "        self.X = X\n",
    "        self.Y = Y\n",
    "\n",
    "    def _get_u2idx(self):\n",
    "        u2idx = {user_id: idx for idx, user_id in enumerate(self.user_ids)}\n",
    "        return u2idx\n",
    "    \n",
    "    def _get_idx2u(self):\n",
    "        idx2u = {idx: user_id for idx, user_id in enumerate(self.user_ids)}\n",
    "        return idx2u\n",
    "    \n",
    "    def _get_m2idx(self):\n",
    "        m2idx = {movie_id: idx for idx, movie_id in enumerate(self.movie_ids)}\n",
    "        return m2idx\n",
    "    \n",
    "    def _get_idx2m(self):\n",
    "        idx2m = {idx: movie_id for idx, movie_id in enumerate(self.movie_ids)}\n",
    "        return idx2m\n",
    "    \n",
    "    def _get_unique_user_ids(self, reviews):\n",
    "        unique_user_ids = reviews['userId'].unique()\n",
    "        return unique_user_ids\n",
    "    \n",
    "    def _get_inique_movie_ids(self):\n",
    "        unique_movie_ids = list(self.movies.keys())\n",
    "        return unique_movie_ids\n",
    "    \n",
    "    def _get_movies(self, movies):\n",
    "        movies['genres'] = movies['genres'].apply(lambda x: set(x.split('|')))\n",
    "        movies_dict = movies.set_index('movieId').to_dict(orient='index')\n",
    "        return movies_dict\n",
    "    \n",
    "    def _get_R(self, reviews):\n",
    "        # Example: Create a COO matrix from the 'ratings' DataFrame\n",
    "        users = reviews['userId'].values\n",
    "        items = reviews['movieId'].values\n",
    "        values = reviews['rating'].values\n",
    "\n",
    "        mapped_users = [self.u2idx[user_id] for user_id in users]\n",
    "        mapped_movies = [self.m2idx[item_id] for item_id in items]\n",
    "        num_users = len(self.user_ids)\n",
    "        num_items = len(self.movie_ids)\n",
    "        # Create a sparse matrix in COO format\n",
    "        #R = sp.coo_array((values, (mapped_users, mapped_movies)), shape=(num_users, num_items)).tocsr()\n",
    "        R = sp.coo_matrix((values, (mapped_users, mapped_movies))).tocsr()\n",
    "        return R\n",
    "    \n",
    "    def _get_relevant_users(self, item):\n",
    "        # Get the row indices of non-zero elements in the specified column\n",
    "        relevant_users = self.R[:, item].nonzero()[0]\n",
    "        return relevant_users\n",
    "    \n",
    "    def _get_relevant_items(self, user):\n",
    "        # Get the column indices of non-zero elements in the specified row\n",
    "        relevant_items = self.R[user].indices\n",
    "        return relevant_items\n",
    "\n",
    "    def _ALS_fit(self, num_dims=32, num_iters=10, eps=1e-7):\n",
    "        R = self.R\n",
    "        num_users = len(self.user_ids)\n",
    "        num_items = len(self.movie_ids)\n",
    "        X = np.random.randn(num_users, num_dims) #Users\n",
    "        Y = np.random.randn(num_items, num_dims) #Items\n",
    "        \n",
    "        for t in range(num_iters):\n",
    "            print(f\"R dims: {R.shape} Y dims: {Y.shape} X dims: {X.shape}\")\n",
    "            RY = R @ Y\n",
    "            for u in range(num_users):\n",
    "                relevant_items = self._get_relevant_items(u)\n",
    "                Y_rel = Y[relevant_items]\n",
    "                YY = Y_rel.reshape(-1, num_dims, 1) * Y_rel.reshape(-1, 1, num_dims)\n",
    "                X[u] = np.linalg.inv(YY.sum(axis=0) + eps * np.eye(num_dims)) @ RY[u]\n",
    "\n",
    "            RX = R.T @ X\n",
    "            for i in range(num_items):\n",
    "                relevant_users = self._get_relevant_users(i)\n",
    "                X_rel = X[relevant_users]\n",
    "                XX = X_rel.reshape(-1, num_dims, 1) * X_rel.reshape(-1, 1, num_dims)\n",
    "                Y[i] = np.linalg.inv(XX.sum(axis=0) + eps * np.eye(num_dims)) @ RX[i]\n",
    "        \n",
    "        return X, Y\n",
    "    \n",
    "    def _get_rankings(self, user_id_mapped):\n",
    "        print(f'Shapes X[i].T: {self.X[user_id_mapped].T.shape} Y shape: {self.Y.shape}')\n",
    "        rankings = self.Y @ self.X[user_id_mapped].T\n",
    "        rankings = self.X[user_id_mapped] @ self.Y.T\n",
    "        return rankings\n",
    "    \n",
    "    def get_rankings(self, user_id):\n",
    "        user_id_mapped = self.u2idx[user_id]\n",
    "        rankings = self._get_rankings(user_id_mapped)\n",
    "        rankings = [(self.idx2m[idx], score) for idx, score in enumerate(rankings)]\n",
    "        rankings = sorted(rankings, key=lambda x: x[1], reverse=True)\n",
    "        return rankings\n",
    "    \n",
    "    def recommend(self, user_id, top_k=10):\n",
    "        user_id_mapped = self.u2idx[user_id]\n",
    "        rankings = self._get_rankings(user_id_mapped)\n",
    "        viewed_items = set(self._get_relevant_items(user_id_mapped))\n",
    "\n",
    "        # Filter out viewed items\n",
    "        non_viewed_rankings = [(idx, score) for idx, score in enumerate(rankings) if idx not in viewed_items]\n",
    "\n",
    "        # Get the top k items with the highest score\n",
    "        top_k_recommendations = sorted(non_viewed_rankings, key=lambda x: x[1], reverse=True)[:top_k]\n",
    "\n",
    "        recommendations = [(self.idx2m[idx], score) for idx, score in top_k_recommendations]\n",
    "\n",
    "        response = list(map(lambda x: f\"id: {x[0]: <10} {self.movies[x[0]]['title']: <80} score: {x[1]}\", recommendations))\n",
    "        return response"
   ]
  },
  {
   "cell_type": "code",
   "execution_count": 244,
   "metadata": {},
   "outputs": [
    {
     "name": "stdout",
     "output_type": "stream",
     "text": [
      "R dims: (610, 9742) Y dims: (9742, 32) X dims: (610, 32)\n",
      "R dims: (610, 9742) Y dims: (9742, 32) X dims: (610, 32)\n",
      "R dims: (610, 9742) Y dims: (9742, 32) X dims: (610, 32)\n",
      "R dims: (610, 9742) Y dims: (9742, 32) X dims: (610, 32)\n",
      "R dims: (610, 9742) Y dims: (9742, 32) X dims: (610, 32)\n",
      "R dims: (610, 9742) Y dims: (9742, 32) X dims: (610, 32)\n",
      "R dims: (610, 9742) Y dims: (9742, 32) X dims: (610, 32)\n",
      "R dims: (610, 9742) Y dims: (9742, 32) X dims: (610, 32)\n",
      "R dims: (610, 9742) Y dims: (9742, 32) X dims: (610, 32)\n",
      "R dims: (610, 9742) Y dims: (9742, 32) X dims: (610, 32)\n",
      "Shapes X[i].T: (32,) Y shape: (9742, 32)\n"
     ]
    },
    {
     "data": {
      "text/plain": [
       "['id: 6281       Phone Booth (2002)                                                               score: 98.27369180867166',\n",
       " \"id: 2160       Rosemary's Baby (1968)                                                           score: 95.93369854401197\",\n",
       " 'id: 4874       K-PAX (2001)                                                                     score: 45.9573825094219',\n",
       " 'id: 104841     Gravity (2013)                                                                   score: 43.84108713570221',\n",
       " 'id: 31696      Constantine (2005)                                                               score: 43.19189194035022',\n",
       " 'id: 6534       Hulk (2003)                                                                      score: 30.12738345126688',\n",
       " 'id: 2393       Star Trek: Insurrection (1998)                                                   score: 27.682782550992385',\n",
       " 'id: 152081     Zootopia (2016)                                                                  score: 25.9367499897449',\n",
       " 'id: 68237      Moon (2009)                                                                      score: 25.491840850278514',\n",
       " 'id: 265        Like Water for Chocolate (Como agua para chocolate) (1992)                       score: 24.943807396608484']"
      ]
     },
     "execution_count": 244,
     "metadata": {},
     "output_type": "execute_result"
    }
   ],
   "source": [
    "als = ALSRecSys(movies, ratings)\n",
    "als.recommend(1)"
   ]
  },
  {
   "cell_type": "code",
   "execution_count": 249,
   "metadata": {},
   "outputs": [
    {
     "name": "stdout",
     "output_type": "stream",
     "text": [
      "Shapes X[i].T: (32,) Y shape: (9742, 32)\n"
     ]
    },
    {
     "data": {
      "text/plain": [
       "[\"id: 2160       Rosemary's Baby (1968)                                                           score: 965.3535742772376\",\n",
       " 'id: 31696      Constantine (2005)                                                               score: 624.7645069398019',\n",
       " 'id: 68237      Moon (2009)                                                                      score: 609.6812883372057',\n",
       " 'id: 2393       Star Trek: Insurrection (1998)                                                   score: 589.28215881504',\n",
       " 'id: 1911       Dr. Dolittle (1998)                                                              score: 580.154236221196',\n",
       " 'id: 1644       I Know What You Did Last Summer (1997)                                           score: 543.3274495414448',\n",
       " 'id: 2944       Dirty Dozen, The (1967)                                                          score: 419.5538433574059',\n",
       " \"id: 4015       Dude, Where's My Car? (2000)                                                     score: 315.87792956370436\",\n",
       " 'id: 5064       The Count of Monte Cristo (2002)                                                 score: 315.60370021373336',\n",
       " 'id: 1882       Godzilla (1998)                                                                  score: 307.1749440368738']"
      ]
     },
     "execution_count": 249,
     "metadata": {},
     "output_type": "execute_result"
    }
   ],
   "source": [
    "als.recommend(300)"
   ]
  },
  {
   "cell_type": "code",
   "execution_count": null,
   "metadata": {},
   "outputs": [],
   "source": []
  },
  {
   "cell_type": "code",
   "execution_count": 235,
   "metadata": {},
   "outputs": [
    {
     "name": "stdout",
     "output_type": "stream",
     "text": [
      "Shapes X[i].T: (5,) Y shape: (9742, 5)\n"
     ]
    },
    {
     "data": {
      "text/plain": [
       "['id: 2937       Palm Beach Story, The (1942)                                                     score: 160.2108893185041',\n",
       " 'id: 90890      Jack and Jill (2011)                                                             score: 79.32818924605239',\n",
       " \"id: 70599      Time Traveler's Wife, The (2009)                                                 score: 69.85317618517057\",\n",
       " 'id: 3858       Cecil B. DeMented (2000)                                                         score: 66.44841301775092',\n",
       " \"id: 1633       Ulee's Gold (1997)                                                               score: 60.82619460302493\",\n",
       " 'id: 5632       Bloody Sunday (2002)                                                             score: 56.03790582127367',\n",
       " 'id: 5298       Human Nature (2001)                                                              score: 50.10362518094819',\n",
       " 'id: 3871       Shane (1953)                                                                     score: 48.03182905547998',\n",
       " 'id: 89087      Colombiana (2011)                                                                score: 47.15486759273892',\n",
       " 'id: 65685      Inkheart (2008)                                                                  score: 42.970262411524146']"
      ]
     },
     "execution_count": 235,
     "metadata": {},
     "output_type": "execute_result"
    }
   ],
   "source": [
    "als.recommend(274)"
   ]
  },
  {
   "cell_type": "code",
   "execution_count": 232,
   "metadata": {},
   "outputs": [
    {
     "data": {
      "text/html": [
       "<div>\n",
       "<style scoped>\n",
       "    .dataframe tbody tr th:only-of-type {\n",
       "        vertical-align: middle;\n",
       "    }\n",
       "\n",
       "    .dataframe tbody tr th {\n",
       "        vertical-align: top;\n",
       "    }\n",
       "\n",
       "    .dataframe thead th {\n",
       "        text-align: right;\n",
       "    }\n",
       "</style>\n",
       "<table border=\"1\" class=\"dataframe\">\n",
       "  <thead>\n",
       "    <tr style=\"text-align: right;\">\n",
       "      <th></th>\n",
       "      <th>userId</th>\n",
       "      <th>movieId</th>\n",
       "      <th>rating</th>\n",
       "      <th>timestamp</th>\n",
       "    </tr>\n",
       "  </thead>\n",
       "  <tbody>\n",
       "    <tr>\n",
       "      <th>40138</th>\n",
       "      <td>274</td>\n",
       "      <td>7438</td>\n",
       "      <td>5.0</td>\n",
       "      <td>1171172659</td>\n",
       "    </tr>\n",
       "    <tr>\n",
       "      <th>40555</th>\n",
       "      <td>274</td>\n",
       "      <td>79132</td>\n",
       "      <td>5.0</td>\n",
       "      <td>1284685228</td>\n",
       "    </tr>\n",
       "    <tr>\n",
       "      <th>40497</th>\n",
       "      <td>274</td>\n",
       "      <td>68157</td>\n",
       "      <td>5.0</td>\n",
       "      <td>1253913692</td>\n",
       "    </tr>\n",
       "    <tr>\n",
       "      <th>39889</th>\n",
       "      <td>274</td>\n",
       "      <td>4262</td>\n",
       "      <td>5.0</td>\n",
       "      <td>1171409417</td>\n",
       "    </tr>\n",
       "    <tr>\n",
       "      <th>39720</th>\n",
       "      <td>274</td>\n",
       "      <td>2959</td>\n",
       "      <td>5.0</td>\n",
       "      <td>1171172709</td>\n",
       "    </tr>\n",
       "    <tr>\n",
       "      <th>...</th>\n",
       "      <td>...</td>\n",
       "      <td>...</td>\n",
       "      <td>...</td>\n",
       "      <td>...</td>\n",
       "    </tr>\n",
       "    <tr>\n",
       "      <th>40532</th>\n",
       "      <td>274</td>\n",
       "      <td>74075</td>\n",
       "      <td>1.0</td>\n",
       "      <td>1288172742</td>\n",
       "    </tr>\n",
       "    <tr>\n",
       "      <th>40305</th>\n",
       "      <td>274</td>\n",
       "      <td>43904</td>\n",
       "      <td>1.0</td>\n",
       "      <td>1172023625</td>\n",
       "    </tr>\n",
       "    <tr>\n",
       "      <th>40082</th>\n",
       "      <td>274</td>\n",
       "      <td>6763</td>\n",
       "      <td>1.0</td>\n",
       "      <td>1172030093</td>\n",
       "    </tr>\n",
       "    <tr>\n",
       "      <th>39529</th>\n",
       "      <td>274</td>\n",
       "      <td>1760</td>\n",
       "      <td>0.5</td>\n",
       "      <td>1171932613</td>\n",
       "    </tr>\n",
       "    <tr>\n",
       "      <th>40057</th>\n",
       "      <td>274</td>\n",
       "      <td>6503</td>\n",
       "      <td>0.5</td>\n",
       "      <td>1171759213</td>\n",
       "    </tr>\n",
       "  </tbody>\n",
       "</table>\n",
       "<p>1346 rows × 4 columns</p>\n",
       "</div>"
      ],
      "text/plain": [
       "       userId  movieId  rating   timestamp\n",
       "40138     274     7438     5.0  1171172659\n",
       "40555     274    79132     5.0  1284685228\n",
       "40497     274    68157     5.0  1253913692\n",
       "39889     274     4262     5.0  1171409417\n",
       "39720     274     2959     5.0  1171172709\n",
       "...       ...      ...     ...         ...\n",
       "40532     274    74075     1.0  1288172742\n",
       "40305     274    43904     1.0  1172023625\n",
       "40082     274     6763     1.0  1172030093\n",
       "39529     274     1760     0.5  1171932613\n",
       "40057     274     6503     0.5  1171759213\n",
       "\n",
       "[1346 rows x 4 columns]"
      ]
     },
     "execution_count": 232,
     "metadata": {},
     "output_type": "execute_result"
    }
   ],
   "source": [
    "ratings[ratings['userId']==274].sort_values('rating', ascending=False)"
   ]
  },
  {
   "cell_type": "code",
   "execution_count": 227,
   "metadata": {},
   "outputs": [
    {
     "name": "stdout",
     "output_type": "stream",
     "text": [
      "userId\n",
      "414    2698\n",
      "599    2478\n",
      "474    2108\n",
      "448    1864\n",
      "274    1346\n",
      "       ... \n",
      "442      20\n",
      "569      20\n",
      "320      20\n",
      "576      20\n",
      "53       20\n",
      "Name: count, Length: 610, dtype: int64\n"
     ]
    }
   ],
   "source": [
    "print(ratings['userId'].value_counts())"
   ]
  },
  {
   "cell_type": "code",
   "execution_count": 162,
   "metadata": {},
   "outputs": [
    {
     "name": "stdout",
     "output_type": "stream",
     "text": [
      "[     1      3      6 ... 160836 163937 163981]\n"
     ]
    }
   ],
   "source": [
    "print(ratings['movieId'].unique())"
   ]
  },
  {
   "cell_type": "code",
   "execution_count": 199,
   "metadata": {},
   "outputs": [
    {
     "name": "stdout",
     "output_type": "stream",
     "text": [
      "R dims: (610, 9742) Y dims: (9742, 5) X dims: (610, 5)\n",
      "R dims: (610, 9742) Y dims: (9742, 5) X dims: (610, 5)\n",
      "R dims: (610, 9742) Y dims: (9742, 5) X dims: (610, 5)\n",
      "R dims: (610, 9742) Y dims: (9742, 5) X dims: (610, 5)\n",
      "R dims: (610, 9742) Y dims: (9742, 5) X dims: (610, 5)\n",
      "R dims: (610, 9742) Y dims: (9742, 5) X dims: (610, 5)\n",
      "R dims: (610, 9742) Y dims: (9742, 5) X dims: (610, 5)\n",
      "R dims: (610, 9742) Y dims: (9742, 5) X dims: (610, 5)\n",
      "R dims: (610, 9742) Y dims: (9742, 5) X dims: (610, 5)\n",
      "R dims: (610, 9742) Y dims: (9742, 5) X dims: (610, 5)\n"
     ]
    },
    {
     "ename": "ValueError",
     "evalue": "matmul: Input operand 1 has a mismatch in its core dimension 0, with gufunc signature (n?,k),(k,m?)->(n?,m?) (size 9742 is different from 5)",
     "output_type": "error",
     "traceback": [
      "\u001b[0;31m---------------------------------------------------------------------------\u001b[0m",
      "\u001b[0;31mValueError\u001b[0m                                Traceback (most recent call last)",
      "Cell \u001b[0;32mIn[199], line 2\u001b[0m\n\u001b[1;32m      1\u001b[0m als \u001b[38;5;241m=\u001b[39m ALSRecSys(movies, ratings)\n\u001b[0;32m----> 2\u001b[0m \u001b[43mals\u001b[49m\u001b[38;5;241;43m.\u001b[39;49m\u001b[43mrecommend\u001b[49m\u001b[43m(\u001b[49m\u001b[38;5;241;43m1\u001b[39;49m\u001b[43m)\u001b[49m\n",
      "Cell \u001b[0;32mIn[198], line 107\u001b[0m, in \u001b[0;36mALSRecSys.recommend\u001b[0;34m(self, user_id, top_k)\u001b[0m\n\u001b[1;32m    105\u001b[0m \u001b[38;5;28;01mdef\u001b[39;00m \u001b[38;5;21mrecommend\u001b[39m(\u001b[38;5;28mself\u001b[39m, user_id, top_k\u001b[38;5;241m=\u001b[39m\u001b[38;5;241m10\u001b[39m):\n\u001b[1;32m    106\u001b[0m     user_id_mapped \u001b[38;5;241m=\u001b[39m \u001b[38;5;28mself\u001b[39m\u001b[38;5;241m.\u001b[39mu2idx[user_id]\n\u001b[0;32m--> 107\u001b[0m     rankings \u001b[38;5;241m=\u001b[39m \u001b[38;5;28;43mself\u001b[39;49m\u001b[38;5;241;43m.\u001b[39;49m\u001b[43m_get_rankings\u001b[49m\u001b[43m(\u001b[49m\u001b[43muser_id_mapped\u001b[49m\u001b[43m)\u001b[49m\n\u001b[1;32m    108\u001b[0m     viewed_items \u001b[38;5;241m=\u001b[39m \u001b[38;5;28mset\u001b[39m(\u001b[38;5;28mself\u001b[39m\u001b[38;5;241m.\u001b[39m_get_relevant_items(user_id_mapped))\n\u001b[1;32m    110\u001b[0m     \u001b[38;5;66;03m# Filter out viewed items\u001b[39;00m\n",
      "Cell \u001b[0;32mIn[198], line 95\u001b[0m, in \u001b[0;36mALSRecSys._get_rankings\u001b[0;34m(self, user_id_mapped)\u001b[0m\n\u001b[1;32m     94\u001b[0m \u001b[38;5;28;01mdef\u001b[39;00m \u001b[38;5;21m_get_rankings\u001b[39m(\u001b[38;5;28mself\u001b[39m, user_id_mapped):\n\u001b[0;32m---> 95\u001b[0m     rankings \u001b[38;5;241m=\u001b[39m \u001b[38;5;28;43mself\u001b[39;49m\u001b[38;5;241;43m.\u001b[39;49m\u001b[43mX\u001b[49m\u001b[43m[\u001b[49m\u001b[43muser_id_mapped\u001b[49m\u001b[43m]\u001b[49m\u001b[38;5;241;43m.\u001b[39;49m\u001b[43mT\u001b[49m\u001b[43m \u001b[49m\u001b[38;5;241;43m@\u001b[39;49m\u001b[43m \u001b[49m\u001b[38;5;28;43mself\u001b[39;49m\u001b[38;5;241;43m.\u001b[39;49m\u001b[43mY\u001b[49m\n\u001b[1;32m     96\u001b[0m     \u001b[38;5;28;01mreturn\u001b[39;00m rankings\n",
      "\u001b[0;31mValueError\u001b[0m: matmul: Input operand 1 has a mismatch in its core dimension 0, with gufunc signature (n?,k),(k,m?)->(n?,m?) (size 9742 is different from 5)"
     ]
    }
   ],
   "source": [
    "als = ALSRecSys(movies, ratings)\n",
    "als.recommend(1)"
   ]
  },
  {
   "cell_type": "code",
   "execution_count": 176,
   "metadata": {},
   "outputs": [
    {
     "name": "stdout",
     "output_type": "stream",
     "text": [
      "  (0, 0)\t4.0\n",
      "  (0, 2)\t4.0\n",
      "  (0, 5)\t4.0\n",
      "  (0, 43)\t5.0\n",
      "  (0, 46)\t5.0\n",
      "  (0, 62)\t3.0\n",
      "  (0, 89)\t5.0\n",
      "  (0, 97)\t4.0\n",
      "  (0, 124)\t5.0\n",
      "  (0, 130)\t5.0\n",
      "  (0, 136)\t5.0\n",
      "  (0, 184)\t5.0\n",
      "  (0, 190)\t3.0\n",
      "  (0, 197)\t5.0\n",
      "  (0, 201)\t4.0\n",
      "  (0, 224)\t5.0\n",
      "  (0, 257)\t3.0\n",
      "  (0, 275)\t3.0\n",
      "  (0, 291)\t5.0\n",
      "  (0, 307)\t4.0\n",
      "  (0, 314)\t4.0\n",
      "  (0, 320)\t5.0\n",
      "  (0, 325)\t4.0\n",
      "  (0, 367)\t3.0\n",
      "  (0, 384)\t4.0\n",
      "  :\t:\n",
      "  (609, 9256)\t5.0\n",
      "  (609, 9264)\t4.5\n",
      "  (609, 9274)\t4.0\n",
      "  (609, 9286)\t5.0\n",
      "  (609, 9292)\t3.5\n",
      "  (609, 9297)\t3.5\n",
      "  (609, 9300)\t3.0\n",
      "  (609, 9306)\t3.0\n",
      "  (609, 9322)\t3.0\n",
      "  (609, 9325)\t2.5\n",
      "  (609, 9330)\t4.5\n",
      "  (609, 9335)\t3.0\n",
      "  (609, 9342)\t3.0\n",
      "  (609, 9357)\t4.0\n",
      "  (609, 9359)\t4.0\n",
      "  (609, 9366)\t3.5\n",
      "  (609, 9389)\t3.5\n",
      "  (609, 9390)\t3.5\n",
      "  (609, 9392)\t5.0\n",
      "  (609, 9433)\t4.0\n",
      "  (609, 9434)\t4.0\n",
      "  (609, 9461)\t5.0\n",
      "  (609, 9462)\t5.0\n",
      "  (609, 9463)\t5.0\n",
      "  (609, 9503)\t3.0\n"
     ]
    }
   ],
   "source": [
    "print(als.R)"
   ]
  },
  {
   "cell_type": "code",
   "execution_count": 190,
   "metadata": {},
   "outputs": [
    {
     "name": "stdout",
     "output_type": "stream",
     "text": [
      "(610, 5) (9742, 5)\n",
      "3777.745317209904 -3846.367989291386\n"
     ]
    }
   ],
   "source": [
    "print(als.X.shape, als.Y.shape)\n",
    "pred = np.array(als.X @ als.Y.T)\n",
    "print(np.max(pred), np.min(pred))"
   ]
  },
  {
   "cell_type": "code",
   "execution_count": 191,
   "metadata": {},
   "outputs": [
    {
     "name": "stdout",
     "output_type": "stream",
     "text": [
      "(610, 9742)\n"
     ]
    }
   ],
   "source": [
    "print(pred.shape)"
   ]
  },
  {
   "cell_type": "code",
   "execution_count": 192,
   "metadata": {},
   "outputs": [
    {
     "name": "stdout",
     "output_type": "stream",
     "text": [
      "[4.68833641 4.19056635 3.74694788 ... 0.72456087 0.72456087 0.18346809]\n"
     ]
    }
   ],
   "source": [
    "print(pred[0])"
   ]
  },
  {
   "cell_type": "code",
   "execution_count": 194,
   "metadata": {},
   "outputs": [
    {
     "name": "stdout",
     "output_type": "stream",
     "text": [
      "[[4. 0. 4. ... 0. 0. 0.]]\n"
     ]
    }
   ],
   "source": [
    "print(als.R[0, :].todense())"
   ]
  },
  {
   "cell_type": "code",
   "execution_count": 188,
   "metadata": {},
   "outputs": [
    {
     "name": "stdout",
     "output_type": "stream",
     "text": [
      "3565.971597518866 -3230.014870364964\n",
      "17.943103145890976\n"
     ]
    }
   ],
   "source": [
    "R_dense = als.R.todense()\n",
    "\n",
    "d = np.array(R_dense - pred)\n",
    "print(np.max(d), np.min(d))\n",
    "rmse = np.sqrt(np.mean(d**2))\n",
    "print(rmse)"
   ]
  },
  {
   "cell_type": "code",
   "execution_count": null,
   "metadata": {},
   "outputs": [],
   "source": []
  }
 ],
 "metadata": {
  "kernelspec": {
   "display_name": "torch",
   "language": "python",
   "name": "python3"
  },
  "language_info": {
   "codemirror_mode": {
    "name": "ipython",
    "version": 3
   },
   "file_extension": ".py",
   "mimetype": "text/x-python",
   "name": "python",
   "nbconvert_exporter": "python",
   "pygments_lexer": "ipython3",
   "version": "3.11.6"
  }
 },
 "nbformat": 4,
 "nbformat_minor": 2
}
