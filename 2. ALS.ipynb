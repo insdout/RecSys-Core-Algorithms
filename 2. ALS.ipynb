{
 "cells": [
  {
   "cell_type": "code",
   "execution_count": 66,
   "metadata": {},
   "outputs": [],
   "source": [
    "import pandas as pd\n",
    "import numpy as np\n",
    "from sklearn.model_selection import train_test_split\n",
    "from sklearn.metrics import mean_squared_error, root_mean_squared_error\n",
    "from scipy import sparse as sp"
   ]
  },
  {
   "cell_type": "code",
   "execution_count": 67,
   "metadata": {},
   "outputs": [],
   "source": [
    "class MLDataset:\n",
    "    def __init__(self, movies, ratings):\n",
    "        self.movies = movies.copy()\n",
    "        self.ratings = ratings.copy()\n",
    "        self.m2m_new = {idx: i for i, idx in enumerate(ratings['movieId'].unique())}\n",
    "        self.u2u_new = {idx: i for i, idx in enumerate(ratings['userId'].unique())}\n",
    "\n",
    "    def convert(self):\n",
    "        self.movies['movieId'] = self.movies['movieId'].apply(lambda x: self.m2m_new.get(x, -1))\n",
    "        self.movies['movieId'] = self.movies['movieId'].astype(int)\n",
    "        self.ratings['userId'] = self.ratings['userId'].map(self.u2u_new)\n",
    "        self.ratings['movieId'] = self.ratings['movieId'].map(self.m2m_new)\n",
    "\n",
    "        reviews_dict = self.ratings.groupby('userId').apply(lambda x: dict(zip(x['movieId'], x['rating']))).to_dict()\n",
    "        m2title = {m_id: title for m_id, title in zip(self.movies['movieId'].values, self.movies['title'].values)}\n",
    "        title2m = {title:m_id for m_id, title in zip(self.movies['movieId'].values, self.movies['title'].values)}\n",
    "        return self.movies, reviews_dict, self.ratings, m2title, title2m\n",
    "    \n",
    "    def train_test_split(self, num_test_samples=10):\n",
    "        train_ratings, test_ratings = [], []\n",
    "        for userId, user_data in self.ratings.groupby('userId'):\n",
    "            n_samples = len(user_data)\n",
    "            if n_samples < 2*num_test_samples:\n",
    "                train_ratings += user_data\n",
    "            else:\n",
    "                train_ratings += [user_data[:-num_test_samples]]\n",
    "                test_ratings += [user_data[-num_test_samples:]]\n",
    "        train_ratings = pd.concat(train_ratings)\n",
    "        test_ratings = pd.concat(test_ratings)\n",
    "        return train_ratings, test_ratings\n"
   ]
  },
  {
   "cell_type": "code",
   "execution_count": 68,
   "metadata": {},
   "outputs": [
    {
     "name": "stdout",
     "output_type": "stream",
     "text": [
      "(94736, 4) (6100, 4)\n"
     ]
    }
   ],
   "source": [
    "movies_original = pd.read_csv('datasets/ml-latest-small/movies.csv')\n",
    "ratings_original = pd.read_csv('datasets/ml-latest-small/ratings.csv')\n",
    "\n",
    "ml_dataset = MLDataset(movies_original, ratings_original)\n",
    "\n",
    "movies_original, ratings_dict, ratings_original, m2title, title2m = ml_dataset.convert()\n",
    "\n",
    "train_ratings, test_ratings = ml_dataset.train_test_split()\n",
    "\n",
    "print(train_ratings.shape, test_ratings.shape)"
   ]
  },
  {
   "cell_type": "code",
   "execution_count": 34,
   "metadata": {},
   "outputs": [
    {
     "data": {
      "text/html": [
       "<div>\n",
       "<style scoped>\n",
       "    .dataframe tbody tr th:only-of-type {\n",
       "        vertical-align: middle;\n",
       "    }\n",
       "\n",
       "    .dataframe tbody tr th {\n",
       "        vertical-align: top;\n",
       "    }\n",
       "\n",
       "    .dataframe thead th {\n",
       "        text-align: right;\n",
       "    }\n",
       "</style>\n",
       "<table border=\"1\" class=\"dataframe\">\n",
       "  <thead>\n",
       "    <tr style=\"text-align: right;\">\n",
       "      <th></th>\n",
       "      <th>userId</th>\n",
       "      <th>movieId</th>\n",
       "      <th>rating</th>\n",
       "      <th>timestamp</th>\n",
       "    </tr>\n",
       "  </thead>\n",
       "  <tbody>\n",
       "    <tr>\n",
       "      <th>0</th>\n",
       "      <td>0</td>\n",
       "      <td>0</td>\n",
       "      <td>4.0</td>\n",
       "      <td>964982703</td>\n",
       "    </tr>\n",
       "    <tr>\n",
       "      <th>1</th>\n",
       "      <td>0</td>\n",
       "      <td>1</td>\n",
       "      <td>4.0</td>\n",
       "      <td>964981247</td>\n",
       "    </tr>\n",
       "    <tr>\n",
       "      <th>2</th>\n",
       "      <td>0</td>\n",
       "      <td>2</td>\n",
       "      <td>4.0</td>\n",
       "      <td>964982224</td>\n",
       "    </tr>\n",
       "    <tr>\n",
       "      <th>3</th>\n",
       "      <td>0</td>\n",
       "      <td>3</td>\n",
       "      <td>5.0</td>\n",
       "      <td>964983815</td>\n",
       "    </tr>\n",
       "    <tr>\n",
       "      <th>4</th>\n",
       "      <td>0</td>\n",
       "      <td>4</td>\n",
       "      <td>5.0</td>\n",
       "      <td>964982931</td>\n",
       "    </tr>\n",
       "  </tbody>\n",
       "</table>\n",
       "</div>"
      ],
      "text/plain": [
       "   userId  movieId  rating  timestamp\n",
       "0       0        0     4.0  964982703\n",
       "1       0        1     4.0  964981247\n",
       "2       0        2     4.0  964982224\n",
       "3       0        3     5.0  964983815\n",
       "4       0        4     5.0  964982931"
      ]
     },
     "execution_count": 34,
     "metadata": {},
     "output_type": "execute_result"
    }
   ],
   "source": [
    "train_ratings.head()"
   ]
  },
  {
   "cell_type": "code",
   "execution_count": 69,
   "metadata": {},
   "outputs": [
    {
     "name": "stdout",
     "output_type": "stream",
     "text": [
      "9721 9361\n",
      "9723 9724\n"
     ]
    }
   ],
   "source": [
    "print(train_ratings['movieId'].max(), len(train_ratings['movieId'].unique()))\n",
    "print(ratings_original['movieId'].max(), len(ratings_original['movieId'].unique()))"
   ]
  },
  {
   "cell_type": "code",
   "execution_count": 197,
   "metadata": {},
   "outputs": [],
   "source": [
    "class ALSRecSys:\n",
    "    def __init__(self, num_users, num_items, m2title, num_dims=30):\n",
    "        self.num_dims = num_dims\n",
    "        self.num_users = num_users\n",
    "        self.num_items = num_items\n",
    "        self.m2title = m2title\n",
    "        self.title2m = {title: movie_id for movie_id, title in self.m2title.items()}\n",
    "        self.train_ratings = None\n",
    "        self.test_ratings = None\n",
    "        self.R = None\n",
    "        self.history = {'train_rmse': [], 'test_rmse': []}\n",
    "        self.X = None\n",
    "        self.Y = None\n",
    "    \n",
    "    def _reset(self):\n",
    "        self.train_ratings = None\n",
    "        self.test_ratings = None\n",
    "        self.R = None\n",
    "        self.history = {'train_rmse': [], 'test_rmse': []}\n",
    "        self.X = None\n",
    "        self.Y = None\n",
    "\n",
    "    def fit(self, train_ratings, test_ratings, num_iters=10, eps=1):\n",
    "        self._reset()\n",
    "        self.train_ratings = train_ratings.copy()\n",
    "        self.test_ratings = test_ratings.copy()\n",
    "        self.m2title = m2title\n",
    "        self.R = self._get_R(self.train_ratings)\n",
    "        self.history = []\n",
    "        X, Y = self._ALS_fit(num_iters, eps)\n",
    "        self.X = X\n",
    "        self.Y = Y\n",
    "    \n",
    "    def _get_R(self, reviews):\n",
    "        # Example: Create a COO matrix from the 'ratings' DataFrame\n",
    "        users = reviews['userId'].values\n",
    "        items = reviews['movieId'].values\n",
    "        values = reviews['rating'].values\n",
    "\n",
    "        num_users = self.num_users\n",
    "        num_items = self.num_items\n",
    "        # Create a sparse matrix in COO format\n",
    "        R = sp.coo_array((values, (users, items)), shape=(num_users, num_items)).tocsr()\n",
    "        #R = sp.coo_matrix((values, (users, movies))).tocsr()\n",
    "        return R\n",
    "\n",
    "    def _ALS_fit(self, num_iters, eps):\n",
    "        R = self.R\n",
    "        num_dims = self.num_dims\n",
    "        num_users = self.num_users\n",
    "        num_items = self.num_items\n",
    "        X = np.random.randn(num_users, num_dims) #Users\n",
    "        Y = np.random.randn(num_items, num_dims) #Items\n",
    "        \n",
    "        for t in range(num_iters):\n",
    "            RY = R @ Y\n",
    "            for u in range(num_users):\n",
    "                relevant_items = self.train_ratings[self.train_ratings['userId'] == u]['movieId'].values\n",
    "                Y_rel = Y[relevant_items]\n",
    "                YY = Y_rel.reshape(-1, num_dims, 1) * Y_rel.reshape(-1, 1, num_dims)\n",
    "                X[u] = np.linalg.inv(YY.sum(axis=0) + eps * np.eye(num_dims)) @ RY[u]\n",
    "\n",
    "            RX = R.T @ X\n",
    "            for i in range(num_items):\n",
    "                relevant_users = self.train_ratings[self.train_ratings['movieId'] == i]['userId'].values\n",
    "                X_rel = X[relevant_users]\n",
    "                XX = X_rel.reshape(-1, num_dims, 1) * X_rel.reshape(-1, 1, num_dims)\n",
    "                Y[i] = np.linalg.inv(XX.sum(axis=0) + eps * np.eye(num_dims)) @ RX[i]\n",
    "            train_rmse, test_rmse = self._get_rmse(X, Y)\n",
    "            print(f\"Iter: {t:>3} TRAIN RMSE: {train_rmse:5.3f} TEST RMSE: {test_rmse:5.3f}\")\n",
    "        return X, Y\n",
    "    \n",
    "    def _get_rmse(self, X, Y):\n",
    "        train_preds = (X[self.train_ratings.userId] * Y[self.train_ratings.movieId]).sum(axis=1)\n",
    "        test_preds = (X[self.test_ratings.userId] * Y[self.test_ratings.movieId]).sum(axis=1)\n",
    "        train_preds = np.clip(train_preds, 0.5, 5)\n",
    "        test_preds = np.clip(test_preds, 0.5, 5.0)\n",
    "        train_rmse = root_mean_squared_error(train_preds, self.train_ratings['rating'])\n",
    "        test_rmse = root_mean_squared_error(test_preds, self.test_ratings['rating'])\n",
    "        return train_rmse, test_rmse\n",
    "\n",
    "    def _get_rankings(self, user_id_mapped):\n",
    "        rankings = self.Y @ self.X[user_id_mapped].T\n",
    "        #rankings = self.X[user_id_mapped] @ self.Y.T\n",
    "        return rankings\n",
    "    \n",
    "    def get_rankings(self, user_id):\n",
    "        user_id_mapped = self.u2idx[user_id]\n",
    "        rankings = self._get_rankings(user_id_mapped)\n",
    "        rankings = [(self.idx2m[idx], score) for idx, score in enumerate(rankings)]\n",
    "        rankings = sorted(rankings, key=lambda x: x[1], reverse=True)\n",
    "        return rankings\n",
    "    \n",
    "    def recommend(self, user_id, top_k=10, not_seen=True):\n",
    "        rankings = self._get_rankings(user_id)\n",
    "\n",
    "        if not_seen:\n",
    "            viewed_items = set(self.train_ratings[train_ratings['userId'] == user_id]['movieId'])\n",
    "            rankings = [(idx, score) for idx, score in enumerate(rankings) if idx not in viewed_items]\n",
    "        else:\n",
    "            rankings = [(idx, score) for idx, score in enumerate(rankings)]\n",
    "\n",
    "        # Get the top k items with the highest score\n",
    "        top_k_recommendations = sorted(rankings, key=lambda x: x[1], reverse=True)[:top_k]\n",
    "        return top_k_recommendations\n",
    "    \n",
    "    def print_recommend(self, user_id, top_k=10, not_seen=True):\n",
    "        top_k_recommendations = self.recommend(user_id, top_k, not_seen)\n",
    "        print(*list(map(lambda x: f\"id: {x[0]: <10} {self.m2title[x[0]]: <80} score: {x[1]}\", top_k_recommendations)), sep='\\n')\n",
    "\n",
    "    def most_similar(self, movie_title, top_k=10):\n",
    "        movie_id = self.title2m.get(movie_title, None)\n",
    "        if movie_id is None:\n",
    "            print(f'{movie_title} not found!')\n",
    "            return 0\n",
    "        movie_vec = self.Y[movie_id]\n",
    "        similarities = []\n",
    "        for i in range(self.Y.shape[0]):\n",
    "            if i != movie_id:\n",
    "                nom = np.dot(movie_vec, self.Y[i])\n",
    "                denom = np.linalg.norm(movie_vec)*np.linalg.norm(self.Y[i])\n",
    "                if not denom:\n",
    "                    similarities.append((i, 0))\n",
    "                else:\n",
    "                    sim = nom/denom\n",
    "                    similarities.append((i, sim))\n",
    "        top_k_similarities = sorted(similarities, key=lambda x: x[1], reverse=True)[:top_k]\n",
    "        return top_k_similarities\n",
    "\n",
    "    def print_most_similar(self, movie_title, top_k=10):\n",
    "        top_k_most_similar = self.most_similar(movie_title, top_k=10)\n",
    "        print(*list(map(lambda x: f\"id: {x[0]: <10} {self.m2title[x[0]]: <80} score: {x[1]}\", top_k_most_similar)), sep='\\n')"
   ]
  },
  {
   "cell_type": "code",
   "execution_count": 198,
   "metadata": {},
   "outputs": [
    {
     "name": "stdout",
     "output_type": "stream",
     "text": [
      "num_users: 610 num_items: 9724\n",
      "\n",
      "Iter:   0 TRAIN RMSE: 1.632 TEST RMSE: 2.377\n",
      "Iter:   1 TRAIN RMSE: 0.651 TEST RMSE: 1.782\n",
      "Iter:   2 TRAIN RMSE: 0.480 TEST RMSE: 1.804\n",
      "Iter:   3 TRAIN RMSE: 0.413 TEST RMSE: 1.832\n",
      "Iter:   4 TRAIN RMSE: 0.376 TEST RMSE: 1.849\n"
     ]
    }
   ],
   "source": [
    "num_items = len(ratings_original['movieId'].unique())\n",
    "num_users = len(ratings_original['userId'].unique())\n",
    "print(f'num_users: {num_users} num_items: {num_items}')\n",
    "print()\n",
    "als = ALSRecSys(num_users, num_items, m2title)\n",
    "als.fit(train_ratings, test_ratings, num_iters=5, eps=1)\n"
   ]
  },
  {
   "cell_type": "code",
   "execution_count": 199,
   "metadata": {},
   "outputs": [
    {
     "name": "stdout",
     "output_type": "stream",
     "text": [
      "id: 722        Dr. Strangelove or: How I Learned to Stop Worrying and Love the Bomb (1964)      score: 5.450577488870256\n",
      "id: 1094       Blade Runner (1982)                                                              score: 5.371637261081179\n",
      "id: 75         Alien (1979)                                                                     score: 5.324088474113974\n",
      "id: 108        Big Lebowski, The (1998)                                                         score: 5.257121332494494\n",
      "id: 84         Groundhog Day (1993)                                                             score: 5.10616882201697\n",
      "id: 1109       Manchurian Candidate, The (1962)                                                 score: 4.944543672976586\n",
      "id: 1125       Amelie (Fabuleux destin d'Amélie Poulain, Le) (2001)                             score: 4.903371457442445\n",
      "id: 723        2001: A Space Odyssey (1968)                                                     score: 4.883860340512179\n",
      "id: 1138       Sting, The (1973)                                                                score: 4.840363154170719\n",
      "id: 166        Matrix, The (1999)                                                               score: 4.8395850966027965\n"
     ]
    }
   ],
   "source": [
    "als.print_recommend(user_id=598, not_seen=False)"
   ]
  },
  {
   "cell_type": "code",
   "execution_count": 200,
   "metadata": {},
   "outputs": [
    {
     "name": "stdout",
     "output_type": "stream",
     "text": [
      "id: 1133       Toy Story 3 (2010)                                                               score: 5.837965902110561\n",
      "id: 332        Rear Window (1954)                                                               score: 5.346323254927514\n",
      "id: 222        Blazing Saddles (1974)                                                           score: 5.282064592299535\n",
      "id: 13         Dumb & Dumber (Dumb and Dumber) (1994)                                           score: 5.139204073655108\n",
      "id: 530        Crimson Tide (1995)                                                              score: 4.9475918689007905\n",
      "id: 1074       Captain America: The Winter Soldier (2014)                                       score: 4.939757258942987\n",
      "id: 170        Mummy, The (1999)                                                                score: 4.888059366950731\n",
      "id: 70         Raiders of the Lost Ark (Indiana Jones and the Raiders of the Lost Ark) (1981)   score: 4.772717253481783\n",
      "id: 28         Schindler's List (1993)                                                          score: 4.750237864411196\n",
      "id: 220        Road Trip (2000)                                                                 score: 4.649397329663653\n"
     ]
    }
   ],
   "source": [
    "als.print_recommend(user_id=6)"
   ]
  },
  {
   "cell_type": "code",
   "execution_count": 201,
   "metadata": {},
   "outputs": [
    {
     "name": "stdout",
     "output_type": "stream",
     "text": [
      "id: 68         Star Wars: Episode V - The Empire Strikes Back (1980)                            score: 0.9876464175013507\n",
      "id: 73         Star Wars: Episode VI - Return of the Jedi (1983)                                score: 0.9757310209044194\n",
      "id: 70         Raiders of the Lost Ark (Indiana Jones and the Raiders of the Lost Ark) (1981)   score: 0.965941287073463\n",
      "id: 89         Indiana Jones and the Last Crusade (1989)                                        score: 0.9651124703684777\n",
      "id: 81         Terminator, The (1984)                                                           score: 0.9577256748188281\n",
      "id: 25         Fugitive, The (1993)                                                             score: 0.9568671668910638\n",
      "id: 117        Lethal Weapon (1987)                                                             score: 0.9558584803893001\n",
      "id: 7          Braveheart (1995)                                                                score: 0.9545084218659008\n",
      "id: 292        Twelve Monkeys (a.k.a. 12 Monkeys) (1995)                                        score: 0.9517758162252669\n",
      "id: 85         Back to the Future (1985)                                                        score: 0.9462799970325628\n"
     ]
    }
   ],
   "source": [
    "als.print_most_similar('Star Wars: Episode IV - A New Hope (1977)', top_k=10)"
   ]
  },
  {
   "cell_type": "code",
   "execution_count": 202,
   "metadata": {},
   "outputs": [
    {
     "name": "stdout",
     "output_type": "stream",
     "text": [
      "id: 192        Fight Club (1999)                                                                score: 0.9766120261570349\n",
      "id: 62         Reservoir Dogs (1992)                                                            score: 0.9750136133318134\n",
      "id: 4          Usual Suspects, The (1995)                                                       score: 0.9695167197434075\n",
      "id: 74         Goodfellas (1990)                                                                score: 0.9659636495251795\n",
      "id: 353        Amadeus (1984)                                                                   score: 0.9597826328533221\n",
      "id: 237        Departed, The (2006)                                                             score: 0.9582904221307115\n",
      "id: 184        American Beauty (1999)                                                           score: 0.9556054205453388\n",
      "id: 147        American History X (1998)                                                        score: 0.9544820776379206\n",
      "id: 1027       Godfather, The (1972)                                                            score: 0.9537654377234577\n",
      "id: 342        Fish Called Wanda, A (1988)                                                      score: 0.9531993268022876\n"
     ]
    }
   ],
   "source": [
    "als.print_most_similar('Pulp Fiction (1994)', top_k=10)"
   ]
  },
  {
   "cell_type": "code",
   "execution_count": 203,
   "metadata": {},
   "outputs": [
    {
     "name": "stdout",
     "output_type": "stream",
     "text": [
      "id: 753        Lord of the Rings: The Fellowship of the Ring, The (2001)                        score: 0.9938214756052117\n",
      "id: 774        Lord of the Rings: The Return of the King, The (2003)                            score: 0.9935283465776582\n",
      "id: 1254       Pirates of the Caribbean: Dead Man's Chest (2006)                                score: 0.937883416354588\n",
      "id: 756        Spider-Man (2002)                                                                score: 0.9363358683970326\n",
      "id: 794        Incredibles, The (2004)                                                          score: 0.9362417252108377\n",
      "id: 1055       WALL·E (2008)                                                                    score: 0.9252346171842585\n",
      "id: 238        Dark Knight, The (2008)                                                          score: 0.9235608821632175\n",
      "id: 84         Groundhog Day (1993)                                                             score: 0.9231972116201346\n",
      "id: 782        Spider-Man 2 (2004)                                                              score: 0.9200910181261507\n",
      "id: 166        Matrix, The (1999)                                                               score: 0.917546039778664\n"
     ]
    }
   ],
   "source": [
    "als.print_most_similar('Lord of the Rings: The Two Towers, The (2002)', top_k=10)"
   ]
  },
  {
   "cell_type": "code",
   "execution_count": 204,
   "metadata": {},
   "outputs": [
    {
     "name": "stdout",
     "output_type": "stream",
     "text": [
      "id: 1136       Godfather: Part II, The (1974)                                                   score: 0.9880919080895534\n",
      "id: 74         Goodfellas (1990)                                                                score: 0.9705514872208869\n",
      "id: 34         Silence of the Lambs, The (1991)                                                 score: 0.9700588541981945\n",
      "id: 121        Saving Private Ryan (1998)                                                       score: 0.9662270690320399\n",
      "id: 864        Graduate, The (1967)                                                             score: 0.9595128738151184\n",
      "id: 76         Psycho (1960)                                                                    score: 0.9557509911996898\n",
      "id: 353        Amadeus (1984)                                                                   score: 0.9555013985571533\n",
      "id: 16         Pulp Fiction (1994)                                                              score: 0.9537654377234577\n",
      "id: 1190       Scarface (1983)                                                                  score: 0.9526325630905812\n",
      "id: 36         Fargo (1996)                                                                     score: 0.9525591754935514\n"
     ]
    }
   ],
   "source": [
    "als.print_most_similar(\"Godfather, The (1972)\", top_k=10)"
   ]
  },
  {
   "cell_type": "code",
   "execution_count": null,
   "metadata": {},
   "outputs": [],
   "source": [
    "def remove_train_items(preds, k):\n",
    "    new_preds = np.zeros((preds.shape[0], k), dtype=np.int)\n",
    "    for user_id, user_data in train_ratings.groupby('userId'):\n",
    "        user_preds = preds[user_id]\n",
    "        new_preds[user_id] = user_preds[~np.in1d(user_preds, user_data.movieId)][:k]\n",
    "    \n",
    "    return new_preds\n",
    "\n",
    "\n",
    "def ALS_prediction(X, Y, k=10):\n",
    "    preds = np.argsort(X @ Y.T, axis=1)\n",
    "    return preds[:k]\n",
    "\n",
    "\n",
    "def random_prediction(k=10):\n",
    "    preds = np.tile(np.arange(num_movies), (num_users, 1))\n",
    "    for i in range(num_users):\n",
    "        rand_perm = np.random.permutation(num_movies)\n",
    "        preds[i] = preds[i][rand_perm]\n",
    "\n",
    "    return preds[:k]\n",
    "\n",
    "def top_prediction(freq_thr=10, k=10):\n",
    "    mean_rating = train_ratings.groupby('movieId').rating.mean()\n",
    "    mean_rating = mean_rating[train_ratings.groupby('movieId').size() >= freq_thr]\n",
    "    preds = np.array(mean_rating.sort_values(ascending=False).index)\n",
    "    preds = np.tile(preds, (num_users, 1))\n",
    "    return preds[:k]\n",
    "\n",
    "\n",
    "def MAPk(y_true, y_pred, k=10):\n",
    "    map_k, count = 0, 0\n",
    "    for relevant_items, predicted_items in zip(y_true, y_pred):\n",
    "        if not relevant_items:\n",
    "            continue\n",
    "        correct = np.isin(predicted_items[:k], relevant_items)\n",
    "        map_k += (correct / np.arange(1, k + 1)).sum() / \\\n",
    "            (1 / np.arange(1, len(relevant_items) + 1)).sum()\n",
    "        count += 1\n",
    "    \n",
    "    map_k = map_k / count\n",
    "    return map_k"
   ]
  },
  {
   "cell_type": "code",
   "execution_count": null,
   "metadata": {},
   "outputs": [],
   "source": []
  },
  {
   "cell_type": "code",
   "execution_count": null,
   "metadata": {},
   "outputs": [],
   "source": []
  },
  {
   "cell_type": "code",
   "execution_count": null,
   "metadata": {},
   "outputs": [],
   "source": []
  },
  {
   "cell_type": "code",
   "execution_count": 74,
   "metadata": {},
   "outputs": [
    {
     "name": "stdout",
     "output_type": "stream",
     "text": [
      "(610, 9724)\n",
      "(610, 9724) (610, 9724) (610, 9724)\n"
     ]
    }
   ],
   "source": [
    "# Load data from disk\n",
    "df = ratings_original.copy()\n",
    "df.columns = ['user_id', 'item_id', 'rating', 'timestamp']\n",
    "df.head()\n",
    "n_users = df.user_id.unique().shape[0]\n",
    "n_items = df.item_id.unique().shape[0]\n",
    "\n",
    "# Create r_{ui}, our ratings matrix\n",
    "ratings = np.zeros((n_users, n_items))\n",
    "for row in df.itertuples():\n",
    "    ratings[row[1], row[2]] = row[3]\n",
    "print(ratings.shape)\n",
    "\n",
    "def get_train_test(train_ratings, test_ratings):\n",
    "    train = np.zeros((n_users, n_items))\n",
    "    for row in train_ratings.itertuples():\n",
    "        train[row[1], row[2]] = row[3]\n",
    "    \n",
    "    test = np.zeros((n_users, n_items))\n",
    "    for row in test_ratings.itertuples():\n",
    "        test[row[1], row[2]] = row[3]\n",
    "    return train, test\n",
    "\n",
    "train, test = get_train_test(train_ratings, test_ratings)\n",
    "print(ratings.shape, train.shape, test.shape)"
   ]
  },
  {
   "cell_type": "code",
   "execution_count": 75,
   "metadata": {},
   "outputs": [],
   "source": [
    "from sklearn.metrics import mean_squared_error\n",
    "\n",
    "def get_mse(pred, actual):\n",
    "    # Ignore nonzero terms.\n",
    "    pred = pred[actual.nonzero()].flatten()\n",
    "    actual = actual[actual.nonzero()].flatten()\n",
    "    return mean_squared_error(pred, actual)"
   ]
  },
  {
   "cell_type": "code",
   "execution_count": 76,
   "metadata": {},
   "outputs": [],
   "source": [
    "from numpy.linalg import solve\n",
    "\n",
    "class ExplicitMF():\n",
    "    def __init__(self, \n",
    "                 ratings, \n",
    "                 n_factors=40, \n",
    "                 item_reg=0.0, \n",
    "                 user_reg=0.0,\n",
    "                 verbose=False):\n",
    "        \"\"\"\n",
    "        Train a matrix factorization model to predict empty \n",
    "        entries in a matrix. The terminology assumes a \n",
    "        ratings matrix which is ~ user x item\n",
    "        \n",
    "        Params\n",
    "        ======\n",
    "        ratings : (ndarray)\n",
    "            User x Item matrix with corresponding ratings\n",
    "        \n",
    "        n_factors : (int)\n",
    "            Number of latent factors to use in matrix \n",
    "            factorization model\n",
    "        \n",
    "        item_reg : (float)\n",
    "            Regularization term for item latent factors\n",
    "        \n",
    "        user_reg : (float)\n",
    "            Regularization term for user latent factors\n",
    "        \n",
    "        verbose : (bool)\n",
    "            Whether or not to printout training progress\n",
    "        \"\"\"\n",
    "        \n",
    "        self.ratings = ratings\n",
    "        self.n_users, self.n_items = ratings.shape\n",
    "        self.n_factors = n_factors\n",
    "        self.item_reg = item_reg\n",
    "        self.user_reg = user_reg\n",
    "        self._v = verbose\n",
    "\n",
    "    def als_step(self,\n",
    "                 latent_vectors,\n",
    "                 fixed_vecs,\n",
    "                 ratings,\n",
    "                 _lambda,\n",
    "                 type='user'):\n",
    "        \"\"\"\n",
    "        One of the two ALS steps. Solve for the latent vectors\n",
    "        specified by type.\n",
    "        \"\"\"\n",
    "        if type == 'user':\n",
    "            # Precompute\n",
    "            YTY = fixed_vecs.T.dot(fixed_vecs)\n",
    "            lambdaI = np.eye(YTY.shape[0]) * _lambda\n",
    "\n",
    "            for u in range(latent_vectors.shape[0]):\n",
    "                latent_vectors[u, :] = solve((YTY + lambdaI), \n",
    "                                             ratings[u, :].dot(fixed_vecs))\n",
    "        elif type == 'item':\n",
    "            # Precompute\n",
    "            XTX = fixed_vecs.T.dot(fixed_vecs)\n",
    "            lambdaI = np.eye(XTX.shape[0]) * _lambda\n",
    "            \n",
    "            for i in range(latent_vectors.shape[0]):\n",
    "                latent_vectors[i, :] = solve((XTX + lambdaI), \n",
    "                                             ratings[:, i].T.dot(fixed_vecs))\n",
    "        return latent_vectors\n",
    "\n",
    "    def train(self, n_iter=10):\n",
    "        \"\"\" Train model for n_iter iterations from scratch.\"\"\"\n",
    "        # initialize latent vectors\n",
    "        self.user_vecs = np.random.random((self.n_users, self.n_factors))\n",
    "        self.item_vecs = np.random.random((self.n_items, self.n_factors))\n",
    "        \n",
    "        self.partial_train(n_iter)\n",
    "    \n",
    "    def partial_train(self, n_iter):\n",
    "        \"\"\" \n",
    "        Train model for n_iter iterations. Can be \n",
    "        called multiple times for further training.\n",
    "        \"\"\"\n",
    "        ctr = 1\n",
    "        while ctr <= n_iter:\n",
    "            if ctr % 10 == 0 and self._v:\n",
    "                print('\\tcurrent iteration: {}'.format(ctr))\n",
    "            self.user_vecs = self.als_step(self.user_vecs, \n",
    "                                           self.item_vecs, \n",
    "                                           self.ratings, \n",
    "                                           self.user_reg, \n",
    "                                           type='user')\n",
    "            self.item_vecs = self.als_step(self.item_vecs, \n",
    "                                           self.user_vecs, \n",
    "                                           self.ratings, \n",
    "                                           self.item_reg, \n",
    "                                           type='item')\n",
    "            ctr += 1\n",
    "    \n",
    "    def predict_all(self):\n",
    "        \"\"\" Predict ratings for every user and item. \"\"\"\n",
    "        predictions = np.zeros((self.user_vecs.shape[0], \n",
    "                                self.item_vecs.shape[0]))\n",
    "        for u in range(self.user_vecs.shape[0]):\n",
    "            for i in range(self.item_vecs.shape[0]):\n",
    "                predictions[u, i] = self.predict(u, i)\n",
    "                \n",
    "        return predictions\n",
    "    def predict(self, u, i):\n",
    "        \"\"\" Single user and item prediction. \"\"\"\n",
    "        return self.user_vecs[u, :].dot(self.item_vecs[i, :].T)\n",
    "    \n",
    "    def calculate_learning_curve(self, iter_array, test):\n",
    "        \"\"\"\n",
    "        Keep track of MSE as a function of training iterations.\n",
    "        \n",
    "        Params\n",
    "        ======\n",
    "        iter_array : (list)\n",
    "            List of numbers of iterations to train for each step of \n",
    "            the learning curve. e.g. [1, 5, 10, 20]\n",
    "        test : (2D ndarray)\n",
    "            Testing dataset (assumed to be user x item).\n",
    "        \n",
    "        The function creates two new class attributes:\n",
    "        \n",
    "        train_mse : (list)\n",
    "            Training data MSE values for each value of iter_array\n",
    "        test_mse : (list)\n",
    "            Test data MSE values for each value of iter_array\n",
    "        \"\"\"\n",
    "        iter_array.sort()\n",
    "        self.train_mse =[]\n",
    "        self.test_mse = []\n",
    "        iter_diff = 0\n",
    "        for (i, n_iter) in enumerate(iter_array):\n",
    "            if self._v:\n",
    "                print('Iteration: {}'.format(n_iter))\n",
    "            if i == 0:\n",
    "                self.train(n_iter - iter_diff)\n",
    "            else:\n",
    "                self.partial_train(n_iter - iter_diff)\n",
    "\n",
    "            predictions = self.predict_all()\n",
    "\n",
    "            self.train_mse += [get_mse(predictions, self.ratings)]\n",
    "            self.test_mse += [get_mse(predictions, test)]\n",
    "            if self._v:\n",
    "                print('Train mse: ' + str(self.train_mse[-1]))\n",
    "                print('Test mse: ' + str(self.test_mse[-1]))\n",
    "            iter_diff = n_iter"
   ]
  },
  {
   "cell_type": "code",
   "execution_count": null,
   "metadata": {},
   "outputs": [],
   "source": [
    "%matplotlib inline\n",
    "import matplotlib.pyplot as plt\n",
    "#import seaborn as sns\n",
    "#sns.set()\n",
    "\n",
    "def plot_learning_curve(iter_array, model):\n",
    "    plt.plot(iter_array, model.train_mse, \\\n",
    "             label='Training', linewidth=2)\n",
    "    plt.plot(iter_array, model.test_mse, \\\n",
    "             label='Test', linewidth=2)\n",
    "\n",
    "\n",
    "    plt.xticks(fontsize=16);\n",
    "    plt.yticks(fontsize=16);\n",
    "    plt.xlabel('iterations', fontsize=10);\n",
    "    plt.ylabel('MSE', fontsize=10);\n",
    "    plt.legend(loc='best', fontsize=20);"
   ]
  },
  {
   "cell_type": "code",
   "execution_count": 92,
   "metadata": {},
   "outputs": [
    {
     "data": {
      "image/png": "[encoded data removed]",
      "text/plain": [
       "<Figure size 640x480 with 1 Axes>"
      ]
     },
     "metadata": {},
     "output_type": "display_data"
    }
   ],
   "source": [
    "MF_ALS = ExplicitMF(train, n_factors=40, \\\n",
    "                    user_reg=0.0, item_reg=0.0)\n",
    "iter_array = list(range(1, 6))\n",
    "MF_ALS.calculate_learning_curve(iter_array, test)\n",
    "plot_learning_curve(iter_array, MF_ALS)"
   ]
  }
 ],
 "metadata": {
  "kernelspec": {
   "display_name": "torch",
   "language": "python",
   "name": "python3"
  },
  "language_info": {
   "codemirror_mode": {
    "name": "ipython",
    "version": 3
   },
   "file_extension": ".py",
   "mimetype": "text/x-python",
   "name": "python",
   "nbconvert_exporter": "python",
   "pygments_lexer": "ipython3",
   "version": "3.11.6"
  }
 },
 "nbformat": 4,
 "nbformat_minor": 2
}
