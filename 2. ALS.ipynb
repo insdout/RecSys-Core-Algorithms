{
 "cells": [
  {
   "cell_type": "markdown",
   "metadata": {},
   "source": [
    "# Alternating Least Squares (ALS) for Matrix Factorization\n",
    "\n",
    "## Initial Assumptions\n",
    "\n",
    "In this exploration of Alternating Least Squares (ALS) for matrix factorization, we start with the same example data from a previous post. Recall that we have a user-by-item matrix where nonzero elements represent the ratings given by users to items. Matrix factorization assumes the following:\n",
    "\n",
    "- Each user can be described by *k* attributes or features. For example, feature 1 might indicate how much each user likes sci-fi movies.\n",
    "- Each item (movie) can be described by an analogous set of *k* attributes or features. Feature 1 for a movie might represent how close the movie is to pure sci-fi.\n",
    "- If we multiply each feature of the user by the corresponding feature of the movie and add everything together, this sum provides a good approximation for the rating the user would give that movie.\n",
    "\n",
    "The beauty of matrix factorization lies in the fact that we don't know these features beforehand, nor do we know how many (*k*) features are relevant. We arbitrarily select a number for *k* and learn the relevant values for all features for all users and items by minimizing a loss function.\n",
    "\n",
    "## Loss Function\n",
    "\n",
    "We formulate the loss function to be minimized as follows:\n",
    "\n",
    "$$L = \\sum\\limits_{u,i \\in S}(r_{ui} - \\textbf{x}_{u}^{\\intercal} \\cdot{} \\textbf{y}_{i})^{2} + \\lambda_{x} \\sum\\limits_{u} \\left\\Vert \\textbf{x}_{u} \\right\\Vert^{2} + \\lambda_{y} \\sum\\limits_{u} \\left\\Vert \\textbf{y}_{i} \\right\\Vert^{2}$$\n",
    "\n",
    "Here:\n",
    "- $r_{ui}$ is the actual rating given by user *u* to item *i*.\n",
    "- $\\textbf{x}_{u}$ and $\\textbf{y}_{i}$ are the user and item vectors, respectively, representing the latent factors.\n",
    "- $\\lambda_{x}$ and $\\lambda_{y}$ are regularization terms to prevent overfitting.\n",
    "\n",
    "## Derivation of ALS\n",
    "\n",
    "ALS minimization involves an alternating process where one set of latent vectors is held constant while the other set is updated. The process alternates between updating user vectors and item vectors. Let's derive the update equations.\n",
    "\n",
    "### Update Equation for User Vectors $\\textbf{x}_{u}$\n",
    "\n",
    "Starting with the derivative of the loss function with respect to $\\textbf{x}_{u}$:\n",
    "\n",
    "$$\\frac{\\partial L}{\\partial \\textbf{x}_{u}} = - 2 \\sum\\limits_{i}(r_{ui} - \\textbf{x}_{u}^{\\intercal} \\cdot{} \\textbf{y}_{i}) \\textbf{y}_{i}^{\\intercal} + 2 \\lambda_{x} \\textbf{x}_{u}^{\\intercal}$$\n",
    "\n",
    "Setting the derivative to zero, we solve for $\\textbf{x}_{u}$:\n",
    "\n",
    "$$\\textbf{x}_{u}^{\\intercal} = \\textbf{r}_{u} \\cdot{} \\textbf{y}_{i} \\cdot{} (\\textbf{y}_{i}^{\\intercal} \\cdot{} \\textbf{y}_{i} + \\lambda_{x}I)^{-1}$$\n",
    "\n",
    "### Update Equation for Item Vectors $\\textbf{y}_{i}$\n",
    "\n",
    "Similarly, the derivative of the loss function with respect to $\\textbf{y}_{i}$ is:\n",
    "\n",
    "$$\\frac{\\partial L}{\\partial \\textbf{y}_{i}} = - 2 \\sum\\limits_{u}(r_{ui} - \\textbf{y}_{i}^{\\intercal} \\cdot{} \\textbf{x}_{u}) \\textbf{x}_{u}^{\\intercal} + 2 \\lambda_{y} \\textbf{y}_{i}^{\\intercal}$$\n",
    "\n",
    "Setting the derivative to zero and solving for $\\textbf{y}_{i}$:\n",
    "\n",
    "$$\\textbf{y}_{i}^{\\intercal} = \\textbf{r}_{i} \\cdot{} \\textbf{x}_{u} \\cdot{} (\\textbf{x}_{u}^{\\intercal} \\cdot{} \\textbf{x}_{u} + \\lambda_{y}I)^{-1}$$\n",
    "\n",
    "The alternating least squares process continues by iteratively updating user vectors and item vectors until convergence.\n",
    "\n",
    "## Implementation:"
   ]
  },
  {
   "cell_type": "code",
   "execution_count": 66,
   "metadata": {},
   "outputs": [],
   "source": [
    "import pandas as pd\n",
    "import numpy as np\n",
    "from sklearn.model_selection import train_test_split\n",
    "from sklearn.metrics import mean_squared_error, root_mean_squared_error\n",
    "from scipy import sparse as sp"
   ]
  },
  {
   "cell_type": "code",
   "execution_count": 67,
   "metadata": {},
   "outputs": [],
   "source": [
    "class MLDataset:\n",
    "    def __init__(self, movies, ratings):\n",
    "        self.movies = movies.copy()\n",
    "        self.ratings = ratings.copy()\n",
    "        self.m2m_new = {idx: i for i, idx in enumerate(ratings['movieId'].unique())}\n",
    "        self.u2u_new = {idx: i for i, idx in enumerate(ratings['userId'].unique())}\n",
    "\n",
    "    def convert(self):\n",
    "        self.movies['movieId'] = self.movies['movieId'].apply(lambda x: self.m2m_new.get(x, -1))\n",
    "        self.movies['movieId'] = self.movies['movieId'].astype(int)\n",
    "        self.ratings['userId'] = self.ratings['userId'].map(self.u2u_new)\n",
    "        self.ratings['movieId'] = self.ratings['movieId'].map(self.m2m_new)\n",
    "\n",
    "        reviews_dict = self.ratings.groupby('userId').apply(lambda x: dict(zip(x['movieId'], x['rating']))).to_dict()\n",
    "        m2title = {m_id: title for m_id, title in zip(self.movies['movieId'].values, self.movies['title'].values)}\n",
    "        title2m = {title:m_id for m_id, title in zip(self.movies['movieId'].values, self.movies['title'].values)}\n",
    "        return self.movies, reviews_dict, self.ratings, m2title, title2m\n",
    "    \n",
    "    def train_test_split(self, num_test_samples=10):\n",
    "        train_ratings, test_ratings = [], []\n",
    "        for userId, user_data in self.ratings.groupby('userId'):\n",
    "            n_samples = len(user_data)\n",
    "            if n_samples < 2*num_test_samples:\n",
    "                train_ratings += user_data\n",
    "            else:\n",
    "                train_ratings += [user_data[:-num_test_samples]]\n",
    "                test_ratings += [user_data[-num_test_samples:]]\n",
    "        train_ratings = pd.concat(train_ratings)\n",
    "        test_ratings = pd.concat(test_ratings)\n",
    "        return train_ratings, test_ratings\n"
   ]
  },
  {
   "cell_type": "code",
   "execution_count": 68,
   "metadata": {},
   "outputs": [
    {
     "name": "stdout",
     "output_type": "stream",
     "text": [
      "(94736, 4) (6100, 4)\n"
     ]
    }
   ],
   "source": [
    "movies_original = pd.read_csv('datasets/ml-latest-small/movies.csv')\n",
    "ratings_original = pd.read_csv('datasets/ml-latest-small/ratings.csv')\n",
    "\n",
    "ml_dataset = MLDataset(movies_original, ratings_original)\n",
    "\n",
    "movies_original, ratings_dict, ratings_original, m2title, title2m = ml_dataset.convert()\n",
    "\n",
    "train_ratings, test_ratings = ml_dataset.train_test_split()\n",
    "\n",
    "print(train_ratings.shape, test_ratings.shape)"
   ]
  },
  {
   "cell_type": "code",
   "execution_count": 69,
   "metadata": {},
   "outputs": [
    {
     "data": {
      "text/html": [
       "<div>\n",
       "<style scoped>\n",
       "    .dataframe tbody tr th:only-of-type {\n",
       "        vertical-align: middle;\n",
       "    }\n",
       "\n",
       "    .dataframe tbody tr th {\n",
       "        vertical-align: top;\n",
       "    }\n",
       "\n",
       "    .dataframe thead th {\n",
       "        text-align: right;\n",
       "    }\n",
       "</style>\n",
       "<table border=\"1\" class=\"dataframe\">\n",
       "  <thead>\n",
       "    <tr style=\"text-align: right;\">\n",
       "      <th></th>\n",
       "      <th>userId</th>\n",
       "      <th>movieId</th>\n",
       "      <th>rating</th>\n",
       "      <th>timestamp</th>\n",
       "    </tr>\n",
       "  </thead>\n",
       "  <tbody>\n",
       "    <tr>\n",
       "      <th>0</th>\n",
       "      <td>0</td>\n",
       "      <td>0</td>\n",
       "      <td>4.0</td>\n",
       "      <td>964982703</td>\n",
       "    </tr>\n",
       "    <tr>\n",
       "      <th>1</th>\n",
       "      <td>0</td>\n",
       "      <td>1</td>\n",
       "      <td>4.0</td>\n",
       "      <td>964981247</td>\n",
       "    </tr>\n",
       "    <tr>\n",
       "      <th>2</th>\n",
       "      <td>0</td>\n",
       "      <td>2</td>\n",
       "      <td>4.0</td>\n",
       "      <td>964982224</td>\n",
       "    </tr>\n",
       "    <tr>\n",
       "      <th>3</th>\n",
       "      <td>0</td>\n",
       "      <td>3</td>\n",
       "      <td>5.0</td>\n",
       "      <td>964983815</td>\n",
       "    </tr>\n",
       "    <tr>\n",
       "      <th>4</th>\n",
       "      <td>0</td>\n",
       "      <td>4</td>\n",
       "      <td>5.0</td>\n",
       "      <td>964982931</td>\n",
       "    </tr>\n",
       "  </tbody>\n",
       "</table>\n",
       "</div>"
      ],
      "text/plain": [
       "   userId  movieId  rating  timestamp\n",
       "0       0        0     4.0  964982703\n",
       "1       0        1     4.0  964981247\n",
       "2       0        2     4.0  964982224\n",
       "3       0        3     5.0  964983815\n",
       "4       0        4     5.0  964982931"
      ]
     },
     "execution_count": 69,
     "metadata": {},
     "output_type": "execute_result"
    }
   ],
   "source": [
    "train_ratings.head()"
   ]
  },
  {
   "cell_type": "code",
   "execution_count": 70,
   "metadata": {},
   "outputs": [
    {
     "name": "stdout",
     "output_type": "stream",
     "text": [
      "9721 9361\n",
      "9723 9724\n"
     ]
    }
   ],
   "source": [
    "print(train_ratings['movieId'].max(), len(train_ratings['movieId'].unique()))\n",
    "print(ratings_original['movieId'].max(), len(ratings_original['movieId'].unique()))"
   ]
  },
  {
   "cell_type": "code",
   "execution_count": 71,
   "metadata": {},
   "outputs": [],
   "source": [
    "class ALSRecSys:\n",
    "    def __init__(self, num_users, num_items, m2title, num_dims=30):\n",
    "        self.num_dims = num_dims\n",
    "        self.num_users = num_users\n",
    "        self.num_items = num_items\n",
    "        self.m2title = m2title\n",
    "        self.title2m = {title: movie_id for movie_id, title in self.m2title.items()}\n",
    "        self.train_ratings = None\n",
    "        self.test_ratings = None\n",
    "        self.R = None\n",
    "        self.history = {'train_rmse': [], 'test_rmse': []}\n",
    "        self.X = None\n",
    "        self.Y = None\n",
    "    \n",
    "    def _reset(self):\n",
    "        self.train_ratings = None\n",
    "        self.test_ratings = None\n",
    "        self.R = None\n",
    "        self.history = {'train_rmse': [], 'test_rmse': []}\n",
    "        self.X = None\n",
    "        self.Y = None\n",
    "\n",
    "    def fit(self, train_ratings, test_ratings, num_iters=10, eps=1):\n",
    "        self._reset()\n",
    "        self.train_ratings = train_ratings.copy()\n",
    "        self.test_ratings = test_ratings.copy()\n",
    "        self.m2title = m2title\n",
    "        self.R = self._get_R(self.train_ratings)\n",
    "        self.history = []\n",
    "        X, Y = self._ALS_fit(num_iters, eps)\n",
    "        self.X = X\n",
    "        self.Y = Y\n",
    "    \n",
    "    def _get_R(self, reviews):\n",
    "        # Example: Create a COO matrix from the 'ratings' DataFrame\n",
    "        users = reviews['userId'].values\n",
    "        items = reviews['movieId'].values\n",
    "        values = reviews['rating'].values\n",
    "\n",
    "        num_users = self.num_users\n",
    "        num_items = self.num_items\n",
    "        # Create a sparse matrix in COO format\n",
    "        R = sp.coo_array((values, (users, items)), shape=(num_users, num_items)).tocsr()\n",
    "        return R\n",
    "\n",
    "    def _ALS_fit(self, num_iters, eps):\n",
    "        R = self.R\n",
    "        num_dims = self.num_dims\n",
    "        num_users = self.num_users\n",
    "        num_items = self.num_items\n",
    "        X = np.random.randn(num_users, num_dims) #Users\n",
    "        Y = np.random.randn(num_items, num_dims) #Items\n",
    "        \n",
    "        for t in range(num_iters):\n",
    "            RY = R @ Y\n",
    "            for u in range(num_users):\n",
    "                relevant_items = self.train_ratings[self.train_ratings['userId'] == u]['movieId'].values\n",
    "                Y_rel = Y[relevant_items]\n",
    "                YY = Y_rel.reshape(-1, num_dims, 1) * Y_rel.reshape(-1, 1, num_dims)\n",
    "                X[u] = np.linalg.inv(YY.sum(axis=0) + eps * np.eye(num_dims)) @ RY[u]\n",
    "\n",
    "            RX = R.T @ X\n",
    "            for i in range(num_items):\n",
    "                relevant_users = self.train_ratings[self.train_ratings['movieId'] == i]['userId'].values\n",
    "                X_rel = X[relevant_users]\n",
    "                XX = X_rel.reshape(-1, num_dims, 1) * X_rel.reshape(-1, 1, num_dims)\n",
    "                Y[i] = np.linalg.inv(XX.sum(axis=0) + eps * np.eye(num_dims)) @ RX[i]\n",
    "            train_rmse, test_rmse = self._get_rmse(X, Y)\n",
    "            print(f\"Iter: {t:>3} TRAIN RMSE: {train_rmse:5.3f} TEST RMSE: {test_rmse:5.3f}\")\n",
    "        return X, Y\n",
    "    \n",
    "    def _get_rmse(self, X, Y):\n",
    "        train_preds = (X[self.train_ratings.userId] * Y[self.train_ratings.movieId]).sum(axis=1)\n",
    "        test_preds = (X[self.test_ratings.userId] * Y[self.test_ratings.movieId]).sum(axis=1)\n",
    "        train_preds = np.clip(train_preds, 0.5, 5)\n",
    "        test_preds = np.clip(test_preds, 0.5, 5.0)\n",
    "        train_rmse = root_mean_squared_error(train_preds, self.train_ratings['rating'])\n",
    "        test_rmse = root_mean_squared_error(test_preds, self.test_ratings['rating'])\n",
    "        return train_rmse, test_rmse\n",
    "\n",
    "    def _get_rankings(self, user_id_mapped):\n",
    "        rankings = self.Y @ self.X[user_id_mapped].T\n",
    "        return rankings\n",
    "    \n",
    "    def get_rankings(self, user_id):\n",
    "        user_id_mapped = self.u2idx[user_id]\n",
    "        rankings = self._get_rankings(user_id_mapped)\n",
    "        rankings = [(self.idx2m[idx], score) for idx, score in enumerate(rankings)]\n",
    "        rankings = sorted(rankings, key=lambda x: x[1], reverse=True)\n",
    "        return rankings\n",
    "    \n",
    "    def recommend(self, user_id, top_k=10, not_seen=True):\n",
    "        rankings = self._get_rankings(user_id)\n",
    "\n",
    "        if not_seen:\n",
    "            viewed_items = set(self.train_ratings[train_ratings['userId'] == user_id]['movieId'])\n",
    "            rankings = [(idx, score) for idx, score in enumerate(rankings) if idx not in viewed_items]\n",
    "        else:\n",
    "            rankings = [(idx, score) for idx, score in enumerate(rankings)]\n",
    "\n",
    "        # Get the top k items with the highest score\n",
    "        top_k_recommendations = sorted(rankings, key=lambda x: x[1], reverse=True)[:top_k]\n",
    "        return top_k_recommendations\n",
    "    \n",
    "    def print_recommend(self, user_id, top_k=10, not_seen=True):\n",
    "        top_k_recommendations = self.recommend(user_id, top_k, not_seen)\n",
    "        print(*list(map(lambda x: f\"id: {x[0]: <7} {self.m2title[x[0]]: <80} score: {x[1]: 4.2f}\", top_k_recommendations)), sep='\\n')\n",
    "\n",
    "    def most_similar(self, movie_title, top_k=10):\n",
    "        movie_id = self.title2m.get(movie_title, None)\n",
    "        if movie_id is None:\n",
    "            print(f'{movie_title} not found!')\n",
    "            return 0\n",
    "        movie_vec = self.Y[movie_id]\n",
    "        similarities = []\n",
    "        for i in range(self.Y.shape[0]):\n",
    "            if i != movie_id:\n",
    "                nom = np.dot(movie_vec, self.Y[i])\n",
    "                denom = np.linalg.norm(movie_vec)*np.linalg.norm(self.Y[i])\n",
    "                if not denom:\n",
    "                    similarities.append((i, 0))\n",
    "                else:\n",
    "                    sim = nom/denom\n",
    "                    similarities.append((i, sim))\n",
    "        top_k_similarities = sorted(similarities, key=lambda x: x[1], reverse=True)[:top_k]\n",
    "        return top_k_similarities\n",
    "\n",
    "    def print_most_similar(self, movie_title, top_k=10):\n",
    "        top_k_most_similar = self.most_similar(movie_title, top_k)\n",
    "        print(*list(map(lambda x: f\"id: {x[0]: <7} {self.m2title[x[0]]: <80} score: {x[1]: 4.2f}\", top_k_most_similar)), sep='\\n')"
   ]
  },
  {
   "cell_type": "code",
   "execution_count": 72,
   "metadata": {},
   "outputs": [
    {
     "name": "stdout",
     "output_type": "stream",
     "text": [
      "num_users: 610 num_items: 9724\n",
      "\n"
     ]
    },
    {
     "name": "stdout",
     "output_type": "stream",
     "text": [
      "Iter:   0 TRAIN RMSE: 1.796 TEST RMSE: 2.434\n",
      "Iter:   1 TRAIN RMSE: 0.700 TEST RMSE: 1.838\n",
      "Iter:   2 TRAIN RMSE: 0.520 TEST RMSE: 1.846\n",
      "Iter:   3 TRAIN RMSE: 0.452 TEST RMSE: 1.859\n",
      "Iter:   4 TRAIN RMSE: 0.415 TEST RMSE: 1.861\n",
      "Iter:   5 TRAIN RMSE: 0.392 TEST RMSE: 1.854\n",
      "Iter:   6 TRAIN RMSE: 0.375 TEST RMSE: 1.841\n",
      "Iter:   7 TRAIN RMSE: 0.363 TEST RMSE: 1.827\n",
      "Iter:   8 TRAIN RMSE: 0.353 TEST RMSE: 1.811\n",
      "Iter:   9 TRAIN RMSE: 0.345 TEST RMSE: 1.795\n"
     ]
    }
   ],
   "source": [
    "num_items = len(ratings_original['movieId'].unique())\n",
    "num_users = len(ratings_original['userId'].unique())\n",
    "print(f'num_users: {num_users} num_items: {num_items}')\n",
    "print()\n",
    "als = ALSRecSys(num_users, num_items, m2title)\n",
    "als.fit(train_ratings, test_ratings, num_iters=10, eps=2)\n"
   ]
  },
  {
   "cell_type": "code",
   "execution_count": 73,
   "metadata": {},
   "outputs": [
    {
     "name": "stdout",
     "output_type": "stream",
     "text": [
      "id: 1437    Vertigo (1958)                                                                   score:  6.64\n",
      "id: 1910    Forgetting Sarah Marshall (2008)                                                 score:  6.23\n",
      "id: 1455    Heathers (1989)                                                                  score:  6.00\n",
      "id: 3478    Tucker & Dale vs Evil (2010)                                                     score:  5.92\n",
      "id: 301     Living in Oblivion (1995)                                                        score:  5.82\n",
      "id: 2299    King Kong (2005)                                                                 score:  5.67\n",
      "id: 1135    Once Upon a Time in the West (C'era una volta il West) (1968)                    score:  5.66\n",
      "id: 2050    Downfall (Untergang, Der) (2004)                                                 score:  5.64\n",
      "id: 2342    Assassination of Jesse James by the Coward Robert Ford, The (2007)               score:  5.59\n",
      "id: 3484    Bridesmaids (2011)                                                               score:  5.54\n"
     ]
    }
   ],
   "source": [
    "als.print_recommend(user_id=598, not_seen=False)"
   ]
  },
  {
   "cell_type": "code",
   "execution_count": 74,
   "metadata": {},
   "outputs": [
    {
     "name": "stdout",
     "output_type": "stream",
     "text": [
      "id: 68      Star Wars: Episode V - The Empire Strikes Back (1980)                            score:  0.99\n",
      "id: 73      Star Wars: Episode VI - Return of the Jedi (1983)                                score:  0.98\n",
      "id: 85      Back to the Future (1985)                                                        score:  0.96\n",
      "id: 180     Ghostbusters (a.k.a. Ghost Busters) (1984)                                       score:  0.95\n",
      "id: 70      Raiders of the Lost Ark (Indiana Jones and the Raiders of the Lost Ark) (1981)   score:  0.95\n",
      "id: 166     Matrix, The (1999)                                                               score:  0.94\n",
      "id: 232     Shawshank Redemption, The (1994)                                                 score:  0.94\n",
      "id: 478     Terminator 2: Judgment Day (1991)                                                score:  0.93\n",
      "id: 84      Groundhog Day (1993)                                                             score:  0.93\n",
      "id: 4       Usual Suspects, The (1995)                                                       score:  0.93\n"
     ]
    }
   ],
   "source": [
    "als.print_most_similar('Star Wars: Episode IV - A New Hope (1977)', top_k=10)"
   ]
  },
  {
   "cell_type": "code",
   "execution_count": 75,
   "metadata": {},
   "outputs": [
    {
     "name": "stdout",
     "output_type": "stream",
     "text": [
      "id: 62      Reservoir Dogs (1992)                                                            score:  0.97\n",
      "id: 192     Fight Club (1999)                                                                score:  0.97\n",
      "id: 4       Usual Suspects, The (1995)                                                       score:  0.96\n",
      "id: 83      Shining, The (1980)                                                              score:  0.96\n",
      "id: 444     Memento (2000)                                                                   score:  0.96\n",
      "id: 234     Kill Bill: Vol. 1 (2003)                                                         score:  0.96\n",
      "id: 1101    One Flew Over the Cuckoo's Nest (1975)                                           score:  0.95\n",
      "id: 1159    Trainspotting (1996)                                                             score:  0.95\n",
      "id: 292     Twelve Monkeys (a.k.a. 12 Monkeys) (1995)                                        score:  0.95\n",
      "id: 34      Silence of the Lambs, The (1991)                                                 score:  0.95\n"
     ]
    }
   ],
   "source": [
    "als.print_most_similar('Pulp Fiction (1994)', top_k=10)"
   ]
  },
  {
   "cell_type": "code",
   "execution_count": 76,
   "metadata": {},
   "outputs": [
    {
     "name": "stdout",
     "output_type": "stream",
     "text": [
      "id: 774     Lord of the Rings: The Return of the King, The (2003)                            score:  0.99\n",
      "id: 753     Lord of the Rings: The Fellowship of the Ring, The (2001)                        score:  0.99\n",
      "id: 770     Pirates of the Caribbean: The Curse of the Black Pearl (2003)                    score:  0.92\n",
      "id: 794     Incredibles, The (2004)                                                          score:  0.91\n",
      "id: 146     Edward Scissorhands (1990)                                                       score:  0.91\n",
      "id: 1050    Children of Men (2006)                                                           score:  0.89\n",
      "id: 762     Spirited Away (Sen to Chihiro no kamikakushi) (2001)                             score:  0.89\n",
      "id: 875     Finding Nemo (2003)                                                              score:  0.89\n",
      "id: 2234    Terminator 3: Rise of the Machines (2003)                                        score:  0.89\n",
      "id: 915     Up (2009)                                                                        score:  0.89\n"
     ]
    }
   ],
   "source": [
    "als.print_most_similar('Lord of the Rings: The Two Towers, The (2002)', top_k=10)"
   ]
  },
  {
   "cell_type": "code",
   "execution_count": 77,
   "metadata": {},
   "outputs": [
    {
     "name": "stdout",
     "output_type": "stream",
     "text": [
      "id: 1136    Godfather: Part II, The (1974)                                                   score:  0.98\n",
      "id: 74      Goodfellas (1990)                                                                score:  0.97\n",
      "id: 62      Reservoir Dogs (1992)                                                            score:  0.94\n",
      "id: 34      Silence of the Lambs, The (1991)                                                 score:  0.94\n",
      "id: 4       Usual Suspects, The (1995)                                                       score:  0.94\n",
      "id: 1101    One Flew Over the Cuckoo's Nest (1975)                                           score:  0.94\n",
      "id: 72      Apocalypse Now (1979)                                                            score:  0.93\n",
      "id: 67      Monty Python and the Holy Grail (1975)                                           score:  0.93\n",
      "id: 121     Saving Private Ryan (1998)                                                       score:  0.93\n",
      "id: 16      Pulp Fiction (1994)                                                              score:  0.93\n"
     ]
    }
   ],
   "source": [
    "als.print_most_similar(\"Godfather, The (1972)\", top_k=10)"
   ]
  },
  {
   "cell_type": "markdown",
   "metadata": {},
   "source": [
    "## Mean Average Precision at k (MAP@k)\n",
    "\n",
    "Mean Average Precision at k (MAP@k) is a widely used metric to evaluate the performance of recommendation systems. It assesses the precision of the top-k recommended items by considering both the relevance and the order of the recommendations.\n",
    "\n",
    "### MAP@k:\n",
    " is then calculated as the average of AP@k over all queries:\n",
    "\n",
    "$$ MAP@k = \\frac{\\sum_{q=1}^{Q} AP@k_q}{Q} $$\n",
    "\n",
    "Where:\n",
    "- $ Q $ is the total number of queries.\n",
    "\n",
    "### AP@k:\n",
    "\n",
    "$$ AP@k = \\frac{\\sum_{i=1}^{k} \\text{Precision@i} \\cdot \\text{rel@i}}{\\text{min}(k, \\text{num\\_true\\_positives})} $$\n",
    "Where:\n",
    "  - $ \\text{Precision@i} $ is the precision at the $i$-th position in the ranking.\n",
    "  - $ \\text{rel@i} $ is an indicator function that is 1 if the item at position $i$ is relevant, and 0 otherwise.\n",
    "  - $ \\text{num\\_true\\_positives} $ is the total number of true positive items in the query.\n",
    "\n",
    "### Precision@k:  \n",
    "is a metric that evaluates the accuracy of the top-k recommendations. It is calculated using the following formula:\n",
    "\n",
    "$$ \\text{Precision@k} = \\frac{\\text{Number of relevant items in top-k}}{k} $$\n",
    "\n",
    "\n",
    "### rel@i:\n",
    "\n",
    "  $$ \\text{rel@i} =\n",
    "      \\begin{cases} \n",
    "        1 & \\text{if the item at position } i \\text{ is relevant} \\\\\n",
    "        0 & \\text{otherwise}\n",
    "      \\end{cases}\n",
    "  $$\n"
   ]
  },
  {
   "cell_type": "code",
   "execution_count": 78,
   "metadata": {},
   "outputs": [
    {
     "name": "stdout",
     "output_type": "stream",
     "text": [
      "MAP@5 Value: 1.0000\n"
     ]
    }
   ],
   "source": [
    "import numpy as np\n",
    "\n",
    "def random_prediction(test_ratings, num_items, k=10):\n",
    "    test_user_ids = test_ratings.userId.unique()\n",
    "    random_pred = np.random.choice(num_items, size=(len(test_user_ids), k))\n",
    "    return random_pred\n",
    "\n",
    "def top_prediction(test_ratings, freq_thr=10, k=10):\n",
    "    test_user_ids = test_ratings.userId.unique()\n",
    "    \n",
    "    mean_rating = train_ratings.groupby('movieId').rating.mean()\n",
    "    mean_rating = mean_rating[train_ratings.groupby('movieId').size() >= freq_thr]\n",
    "    preds = np.array(mean_rating.sort_values(ascending=False).index)[:k]\n",
    "    \n",
    "    top_pred = np.tile(preds, (len(test_user_ids), 1))\n",
    "    return top_pred\n",
    "\n",
    "def ALS_prediction(X, Y, k=10):\n",
    "    rnk = X @ Y.T\n",
    "    preds = np.argsort(rnk, axis=1)[:, ::-1][:, :k]\n",
    "    return preds\n",
    "\n",
    "def get_y_test(test_ratings):\n",
    "    test_relevant = {}\n",
    "    for user_id, user_data in test_ratings[test_ratings.rating >= 4.0].groupby('userId'):\n",
    "        test_relevant[user_id] = np.array(user_data.movieId)\n",
    "    return test_relevant\n",
    "\n",
    "def average_precision_at_k(y_true, y_pred, k, average_by='matched'):\n",
    "    true_positives = np.isin(y_pred[:k], y_true)\n",
    "\n",
    "    precision_at_i = 0.0\n",
    "    num_true_positives = 0\n",
    "\n",
    "    for i, is_true_positive in enumerate(true_positives):\n",
    "        if is_true_positive:\n",
    "            num_true_positives += 1\n",
    "            precision_at_i += num_true_positives / (i + 1)\n",
    "\n",
    "    if num_true_positives == 0:\n",
    "        return 0.0\n",
    "    # Two variants exists: averaged by matched items and by k\n",
    "    if average_by == 'matched':\n",
    "        return precision_at_i / num_true_positives\n",
    "    else:\n",
    "        return precision_at_i / min(k, len(y_true))\n",
    "\n",
    "def MAPk(y_true, y_pred, k, average_by='matched'):\n",
    "    num_queries = len(y_true)\n",
    "    mapk_value = 0.0\n",
    "\n",
    "    for key in y_true.keys():\n",
    "        true_positives = y_true[key]\n",
    "        predictions = y_pred[key]\n",
    "        temp = average_precision_at_k(true_positives, predictions, k, average_by)\n",
    "        mapk_value += temp\n",
    "\n",
    "    return mapk_value / num_queries\n",
    "# Example usage:\n",
    "# Replace y_true and y_pred with your actual values\n",
    "y_true = [1, 2, 3]\n",
    "y_pred = [[1, 2, 4, 4, 5], [2, 1, 4, 3, 6], [1, 3, 5, 2, 4]]\n",
    "\n",
    "# calculate MAP@k for top-3 recommendations\n",
    "k = 5\n",
    "mapk_value = average_precision_at_k(y_true, y_pred[0], k)\n",
    "\n",
    "print(f\"MAP@{k} Value: {mapk_value:.4f}\")"
   ]
  },
  {
   "cell_type": "code",
   "execution_count": 79,
   "metadata": {},
   "outputs": [
    {
     "name": "stdout",
     "output_type": "stream",
     "text": [
      "(610, 50)\n",
      "(610, 50)\n",
      "(610, 50)\n"
     ]
    }
   ],
   "source": [
    "test_relevant = get_y_test(test_ratings)\n",
    "ks = np.arange(1, 51)\n",
    "als_preds = ALS_prediction(als.X, als.Y, k=ks[-1])\n",
    "print(als_preds.shape)\n",
    "random_preds = random_prediction(test_ratings, num_items, k=ks[-1])\n",
    "print(random_preds.shape)\n",
    "top_preds = top_prediction(test_ratings, freq_thr=10, k=ks[-1])\n",
    "print(top_preds.shape)\n",
    "\n",
    "random_mapk = [MAPk(test_relevant, random_preds, k=k) for k in ks]\n",
    "top_mapk = [MAPk(test_relevant, top_preds, k=k) for k in ks]\n",
    "als_mapk = [MAPk(test_relevant, als_preds, k=k) for k in ks]"
   ]
  },
  {
   "cell_type": "code",
   "execution_count": 80,
   "metadata": {},
   "outputs": [
    {
     "data": {
      "image/png": "[encoded data removed]",
      "text/plain": [
       "<Figure size 1000x600 with 1 Axes>"
      ]
     },
     "metadata": {},
     "output_type": "display_data"
    }
   ],
   "source": [
    "import matplotlib.pyplot as plt\n",
    "\n",
    "plt.figure(figsize=(10, 6))\n",
    "plt.plot(ks, random_mapk, label='Random')\n",
    "plt.plot(ks, top_mapk, label='Top rating')\n",
    "plt.plot(ks, als_mapk, label='ALS')\n",
    "\n",
    "plt.legend(title='method')\n",
    "plt.xlabel('k')\n",
    "plt.ylabel('MAP@k')\n",
    "plt.show()"
   ]
  },
  {
   "cell_type": "markdown",
   "metadata": {},
   "source": [
    "## Evaluation Metrics: Coverage and Personalization\n",
    "\n",
    "### Coverage\n",
    "\n",
    "Coverage is a metric used to measure the extent to which a recommendation system is able to recommend a diverse set of items. It indicates the proportion of unique items that are included in the recommendation lists across all users. A higher coverage suggests that the recommendation system is recommending a wider variety of items.\n",
    "\n",
    "The formula for coverage is given by:\n",
    "\n",
    "$$ \\text{Coverage} = \\frac{\\text{Number of Unique Items in Recommendations}}{\\text{Total Number of Items}} $$\n",
    "\n",
    "In the context of evaluating recommendation systems, different recommendation algorithms may yield different coverages. Let's consider three scenarios using various recommendation algorithms: random, top rating, and ALS (Alternating Least Squares) matrix factorization.\n",
    "\n",
    "\n",
    "### Personalization\n",
    "\n",
    "Personalization is a metric that assesses how tailored the recommendations are to individual users. A high level of personalization indicates that the recommendations are unique and specific to each user, while a low level may suggest that recommendations are similar for different users.\n",
    "\n",
    "To compute personalization, we utilize cosine similarity between the one-hot encoded user-item interaction matrix. The formula for personalization is given by:\n",
    "\n",
    "$$ \\text{Personalization} = 1 - \\frac{\\text{Sum of Similarity Scores} - N}{N \\cdot (N - 1)} $$\n",
    "\n",
    "Here, $N$ represents the number of users. The similarity scores are computed based on cosine similarity among user-item interaction vectors.\n",
    "\n",
    "\n",
    "These metrics provide insights into the performance of recommendation systems beyond traditional accuracy measures, offering a more holistic evaluation of their effectiveness. The subsequent sections will delve into the computation of these metrics and provide code implementations."
   ]
  },
  {
   "cell_type": "code",
   "execution_count": 81,
   "metadata": {},
   "outputs": [
    {
     "name": "stdout",
     "output_type": "stream",
     "text": [
      "Random coverage: 0.9571\n",
      "Top rating coverage: 0.0051\n",
      "ALS coverage: 0.1761\n",
      "\n",
      "Random personalization: 0.9949\n",
      "Top rating personalization: 0.0000\n",
      "ALS personalization: 0.8470\n"
     ]
    }
   ],
   "source": [
    "from sklearn.metrics.pairwise import cosine_similarity\n",
    "\n",
    "\n",
    "def coverage(preds):\n",
    "    return np.unique(preds.flatten()).size / num_items\n",
    "\n",
    "\n",
    "def personalization(preds):\n",
    "    N = preds.shape[0]\n",
    "    ohe_matrix = np.zeros((N, num_items))\n",
    "    ohe_matrix[np.arange(N).repeat(preds.shape[1]), preds.reshape(-1)] = 1.\n",
    "    sim_matrix = cosine_similarity(ohe_matrix)\n",
    "    return 1 - (sim_matrix.sum() - N) / (N * (N - 1))\n",
    "\n",
    "print(f'Random coverage: {coverage(random_preds):.4f}')\n",
    "print(f'Top rating coverage: {coverage(top_preds):.4f}')\n",
    "print(f'ALS coverage: {coverage(als_preds):.4f}')\n",
    "print()\n",
    "\n",
    "print(f'Random personalization: {personalization(random_preds):.4f}')\n",
    "print(f'Top rating personalization: {personalization(top_preds):.4f}')\n",
    "print(f'ALS personalization: {personalization(als_preds):.4f}')"
   ]
  },
  {
   "cell_type": "code",
   "execution_count": 82,
   "metadata": {},
   "outputs": [
    {
     "name": "stdout",
     "output_type": "stream",
     "text": [
      "(610, 50)\n",
      "(610, 50)\n",
      "(610, 50)\n"
     ]
    }
   ],
   "source": [
    "test_relevant = get_y_test(test_ratings)\n",
    "ks = np.arange(1, 51)\n",
    "als_preds = ALS_prediction(als.X, als.Y, k=ks[-1])\n",
    "print(als_preds.shape)\n",
    "random_preds = random_prediction(test_ratings, num_items, k=ks[-1])\n",
    "print(random_preds.shape)\n",
    "top_preds = top_prediction(test_ratings, freq_thr=10, k=ks[-1])\n",
    "print(top_preds.shape)\n",
    "\n",
    "random_mapk = [MAPk(test_relevant, random_preds, k=k, average_by='k') for k in ks]\n",
    "top_mapk = [MAPk(test_relevant, top_preds, k=k, average_by='k') for k in ks]\n",
    "als_mapk = [MAPk(test_relevant, als_preds, k=k, average_by='k') for k in ks]"
   ]
  },
  {
   "cell_type": "code",
   "execution_count": 83,
   "metadata": {},
   "outputs": [
    {
     "data": {
      "image/png": "[encoded data removed]",
      "text/plain": [
       "<Figure size 1000x600 with 1 Axes>"
      ]
     },
     "metadata": {},
     "output_type": "display_data"
    }
   ],
   "source": [
    "plt.figure(figsize=(10, 6))\n",
    "plt.plot(ks, random_mapk, label='Random')\n",
    "plt.plot(ks, top_mapk, label='Top rating')\n",
    "plt.plot(ks, als_mapk, label='ALS')\n",
    "\n",
    "plt.legend(title='method')\n",
    "plt.xlabel('k')\n",
    "plt.ylabel('MAP@k')\n",
    "plt.show()"
   ]
  }
 ],
 "metadata": {
  "kernelspec": {
   "display_name": "torch",
   "language": "python",
   "name": "python3"
  },
  "language_info": {
   "codemirror_mode": {
    "name": "ipython",
    "version": 3
   },
   "file_extension": ".py",
   "mimetype": "text/x-python",
   "name": "python",
   "nbconvert_exporter": "python",
   "pygments_lexer": "ipython3",
   "version": "3.11.6"
  }
 },
 "nbformat": 4,
 "nbformat_minor": 2
}
